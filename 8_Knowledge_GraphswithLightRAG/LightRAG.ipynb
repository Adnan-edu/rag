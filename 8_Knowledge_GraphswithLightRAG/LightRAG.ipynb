{
  "cells": [
    {
      "cell_type": "markdown",
      "metadata": {},
      "source": [
        "# 📚✨ **Building Knowledge Graphs with LightRAG** ✨📚\n",
        "\n",
        "Welcome to the **LightRAG Knowledge Graphs** notebook!  \n",
        "Here, you'll discover how to leverage **LightRAG**—a lightweight, efficient Retrieval-Augmented Generation (RAG) framework—for building intelligent, context-aware applications.\n",
        "\n",
        "---\n",
        "\n",
        "## 🚀 Why Use LightRAG?\n",
        "\n",
        "- **Simplicity & Speed:** LightRAG is easy to set up and blazing fast, making it perfect for rapid prototyping and production.\n",
        "- **Cost-Effective:** Designed to be lightweight, it reduces computational costs while maintaining high performance.\n",
        "- **Flexible Integrations:** Easily connect with various data sources and LLMs (Large Language Models).\n",
        "\n",
        "---\n",
        "\n",
        "## 🛠️ What Can You Build?\n",
        "\n",
        "- **Intelligent Chatbots 🤖:** Create assistants that answer questions using your own documents and knowledge bases.\n",
        "- **Semantic Search Engines 🔍:** Retrieve relevant information from large text corpora with context-aware search.\n",
        "- **Automated Knowledge Graphs 🌐:** Extract entities and relationships from unstructured data to visualize and query knowledge.\n",
        "\n",
        "---\n",
        "\n",
        "> **LightRAG empowers you to build smarter, more context-aware AI applications with minimal effort!**\n"
      ]
    },
    {
      "cell_type": "markdown",
      "metadata": {
        "id": "INn4dvlnl0SB"
      },
      "source": [
        "# Setup"
      ]
    },
    {
      "cell_type": "code",
      "execution_count": 1,
      "metadata": {
        "colab": {
          "base_uri": "https://localhost:8080/"
        },
        "id": "ZS-ku7Xyl3UQ",
        "outputId": "2a324147-6991-4c0e-c42f-1f3e13189043"
      },
      "outputs": [],
      "source": [
        "from dotenv import load_dotenv"
      ]
    },
    {
      "cell_type": "code",
      "execution_count": 3,
      "metadata": {
        "colab": {
          "base_uri": "https://localhost:8080/"
        },
        "id": "5kVc6r2xlxjZ",
        "outputId": "c6954ba2-97fe-47ac-f20d-3ef393dd4652"
      },
      "outputs": [
        {
          "name": "stdout",
          "output_type": "stream",
          "text": [
            "/content/drive/MyDrive/ztm/rag_ztm/Knowledge Graphs with LightRAG\n"
          ]
        }
      ],
      "source": [
        "%cd '/content/drive/MyDrive/ztm/rag_ztm/Knowledge Graphs with LightRAG'"
      ]
    },
    {
      "cell_type": "code",
      "execution_count": 4,
      "metadata": {
        "colab": {
          "base_uri": "https://localhost:8080/"
        },
        "id": "qnHHoXO9Y95L",
        "outputId": "7e699ae7-20dc-481b-bb64-809a36bdebf9"
      },
      "outputs": [
        {
          "name": "stdout",
          "output_type": "stream",
          "text": [
            "graph.html\t      Greek-gods-story.txt  LightRAG.ipynb  Mair-Lao-Tzu.pdf\n",
            "Greek-gods-story.pdf  greek_gods.txt\t    lightrag.log    _ZEUS__graph.html\n"
          ]
        }
      ],
      "source": [
        "!ls"
      ]
    },
    {
      "cell_type": "code",
      "execution_count": 5,
      "metadata": {
        "colab": {
          "base_uri": "https://localhost:8080/"
        },
        "id": "dES0niWhl5j5",
        "outputId": "c913b925-4532-4fd7-c8aa-404af49477f9"
      },
      "outputs": [
        {
          "name": "stdout",
          "output_type": "stream",
          "text": [
            "\u001b[?25l   \u001b[90m━━━━━━━━━━━━━━━━━━━━━━━━━━━━━━━━━━━━━━━━\u001b[0m \u001b[32m0.0/232.6 kB\u001b[0m \u001b[31m?\u001b[0m eta \u001b[36m-:--:--\u001b[0m\r\u001b[2K   \u001b[90m━━━━━━━━━━━━━━━━━━━━━━━━━━━━━━━━━━━━━━━━\u001b[0m \u001b[32m232.6/232.6 kB\u001b[0m \u001b[31m13.1 MB/s\u001b[0m eta \u001b[36m0:00:00\u001b[0m\n",
            "\u001b[?25h\u001b[?25l   \u001b[90m━━━━━━━━━━━━━━━━━━━━━━━━━━━━━━━━━━━━━━━━\u001b[0m \u001b[32m0.0/756.0 kB\u001b[0m \u001b[31m?\u001b[0m eta \u001b[36m-:--:--\u001b[0m\r\u001b[2K   \u001b[90m━━━━━━━━━━━━━━━━━━━━━━━━━━━━━━━━━━━━━━━━\u001b[0m \u001b[32m756.0/756.0 kB\u001b[0m \u001b[31m33.3 MB/s\u001b[0m eta \u001b[36m0:00:00\u001b[0m\n",
            "\u001b[2K   \u001b[90m━━━━━━━━━━━━━━━━━━━━━━━━━━━━━━━━━━━━━━━━\u001b[0m \u001b[32m84.2/84.2 kB\u001b[0m \u001b[31m5.9 MB/s\u001b[0m eta \u001b[36m0:00:00\u001b[0m\n",
            "\u001b[2K   \u001b[90m━━━━━━━━━━━━━━━━━━━━━━━━━━━━━━━━━━━━━━━━\u001b[0m \u001b[32m139.9/139.9 kB\u001b[0m \u001b[31m8.7 MB/s\u001b[0m eta \u001b[36m0:00:00\u001b[0m\n",
            "\u001b[2K   \u001b[90m━━━━━━━━━━━━━━━━━━━━━━━━━━━━━━━━━━━━━━━━\u001b[0m \u001b[32m13.6/13.6 MB\u001b[0m \u001b[31m68.4 MB/s\u001b[0m eta \u001b[36m0:00:00\u001b[0m\n",
            "\u001b[2K   \u001b[90m━━━━━━━━━━━━━━━━━━━━━━━━━━━━━━━━━━━━━━━━\u001b[0m \u001b[32m1.6/1.6 MB\u001b[0m \u001b[31m43.8 MB/s\u001b[0m eta \u001b[36m0:00:00\u001b[0m\n",
            "\u001b[2K   \u001b[90m━━━━━━━━━━━━━━━━━━━━━━━━━━━━━━━━━━━━━━━━\u001b[0m \u001b[32m85.3/85.3 kB\u001b[0m \u001b[31m5.9 MB/s\u001b[0m eta \u001b[36m0:00:00\u001b[0m\n",
            "\u001b[?25h"
          ]
        }
      ],
      "source": [
        "!pip install PyPDF2 pyvis aioboto3 ollama tiktoken nano_vectordb python-dotenv -q"
      ]
    },
    {
      "cell_type": "code",
      "execution_count": 6,
      "metadata": {
        "colab": {
          "base_uri": "https://localhost:8080/"
        },
        "id": "GagEFyT-4DUA",
        "outputId": "381d79a0-ff97-4c43-9bf6-6d7220ebd343"
      },
      "outputs": [
        {
          "name": "stdout",
          "output_type": "stream",
          "text": [
            "Collecting lightrag-hku==1.1.1\n",
            "  Downloading lightrag_hku-1.1.1-py3-none-any.whl.metadata (71 kB)\n",
            "\u001b[?25l     \u001b[90m━━━━━━━━━━━━━━━━━━━━━━━━━━━━━━━━━━━━━━━━\u001b[0m \u001b[32m0.0/71.6 kB\u001b[0m \u001b[31m?\u001b[0m eta \u001b[36m-:--:--\u001b[0m\r\u001b[2K     \u001b[90m━━━━━━━━━━━━━━━━━━━━━━━━━━━━━━━━━━━━━━━━\u001b[0m \u001b[32m71.6/71.6 kB\u001b[0m \u001b[31m4.1 MB/s\u001b[0m eta \u001b[36m0:00:00\u001b[0m\n",
            "\u001b[?25hDownloading lightrag_hku-1.1.1-py3-none-any.whl (103 kB)\n",
            "\u001b[?25l   \u001b[90m━━━━━━━━━━━━━━━━━━━━━━━━━━━━━━━━━━━━━━━━\u001b[0m \u001b[32m0.0/103.6 kB\u001b[0m \u001b[31m?\u001b[0m eta \u001b[36m-:--:--\u001b[0m\r\u001b[2K   \u001b[90m━━━━━━━━━━━━━━━━━━━━━━━━━━━━━━━━━━━━━━━━\u001b[0m \u001b[32m103.6/103.6 kB\u001b[0m \u001b[31m7.6 MB/s\u001b[0m eta \u001b[36m0:00:00\u001b[0m\n",
            "\u001b[?25hInstalling collected packages: lightrag-hku\n",
            "Successfully installed lightrag-hku-1.1.1\n"
          ]
        }
      ],
      "source": [
        "!pip install lightrag-hku==1.1.1"
      ]
    },
    {
      "cell_type": "code",
      "execution_count": 7,
      "metadata": {
        "id": "rxRw4T94mMHY"
      },
      "outputs": [],
      "source": [
        "# import libraries\n",
        "import os\n",
        "from IPython.display import Markdown, display\n",
        "from lightrag import LightRAG, QueryParam\n",
        "from lightrag.llm import gpt_4o_mini_complete, gpt_4o_complete\n",
        "import PyPDF2\n",
        "from google.colab import userdata"
      ]
    },
    {
      "cell_type": "code",
      "execution_count": 8,
      "metadata": {
        "id": "c1Q3tTXmmd2r"
      },
      "outputs": [],
      "source": [
        "# Set the OpenAI API key in the environment\n",
        "api_key = userdata.get('OPENAI_API_KEY')\n",
        "os.environ['OPENAI_API_KEY'] = api_key"
      ]
    },
    {
      "cell_type": "markdown",
      "metadata": {
        "id": "R-WPGpvZn2AG"
      },
      "source": [
        "# Create a directory"
      ]
    },
    {
      "cell_type": "code",
      "execution_count": 9,
      "metadata": {
        "id": "D1vGyoHIn4C_"
      },
      "outputs": [],
      "source": [
        "# Set the name for the directory\n",
        "WORKING_DIR = \"./working_dir\"\n",
        "\n",
        "if not os.path.exists(WORKING_DIR):\n",
        "    os.makedirs(WORKING_DIR)\n",
        "\n",
        "rag = LightRAG(\n",
        "    working_dir=WORKING_DIR,\n",
        "    llm_model_func= gpt_4o_complete\n",
        ")"
      ]
    },
    {
      "cell_type": "code",
      "execution_count": 10,
      "metadata": {
        "id": "Aeg0qahloNvr"
      },
      "outputs": [],
      "source": [
        "# If you are using Colab / Jupyter, do this:\n",
        "# When using LightRAG with Jupyter\n",
        "import nest_asyncio\n",
        "nest_asyncio.apply()"
      ]
    },
    {
      "cell_type": "markdown",
      "metadata": {
        "id": "HT49OsM1oY2-"
      },
      "source": [
        "# Data Preparation"
      ]
    },
    {
      "cell_type": "markdown",
      "metadata": {
        "id": "KkOjHhz3oywp"
      },
      "source": [
        "* PDF => TXT\n",
        "* Create RAG with TXT"
      ]
    },
    {
      "cell_type": "code",
      "execution_count": 14,
      "metadata": {
        "id": "fFzQMCqKoaSn"
      },
      "outputs": [],
      "source": [
        "# Open the PDF and extract the text\n",
        "pdf_text = []\n",
        "with open(\"Greek-gods-story.pdf\", \"rb\") as file:\n",
        "  reader = PyPDF2.PdfReader(file)\n",
        "  for page in reader.pages:\n",
        "    pdf_text.append(page.extract_text())"
      ]
    },
    {
      "cell_type": "code",
      "execution_count": 15,
      "metadata": {
        "id": "5cukRD3YpTM2"
      },
      "outputs": [],
      "source": [
        "# Save (Write) a file with the data\n",
        "with open(\"greek_gods.txt\", \"w\") as file:\n",
        "  for line in pdf_text:\n",
        "    file.write(f\"{line}\\n\")"
      ]
    },
    {
      "cell_type": "code",
      "execution_count": 17,
      "metadata": {
        "colab": {
          "base_uri": "https://localhost:8080/"
        },
        "id": "xn0XcoCMpns2",
        "outputId": "60e10deb-bf91-43d7-d237-abc70b5fa533"
      },
      "outputs": [
        {
          "name": "stderr",
          "output_type": "stream",
          "text": [
            "Processing batch 1:   0%|          | 0/1 [00:00<?, ?it/s]\n",
            "Generating embeddings:   0%|          | 0/1 [00:00<?, ?batch/s]\u001b[A\n",
            "Generating embeddings: 100%|██████████| 1/1 [00:01<00:00,  1.95s/batch]\n",
            "\n",
            "Extracting entities from chunks:   0%|          | 0/3 [00:00<?, ?chunk/s]\u001b[A"
          ]
        },
        {
          "name": "stdout",
          "output_type": "stream",
          "text": [
            "⠙ Processed 1 chunks, 3 entities(duplicated), 2 relations(duplicated)\r"
          ]
        },
        {
          "name": "stderr",
          "output_type": "stream",
          "text": [
            "\n",
            "Extracting entities from chunks:  33%|███▎      | 1/3 [00:09<00:19,  9.72s/chunk]\u001b[A"
          ]
        },
        {
          "name": "stdout",
          "output_type": "stream",
          "text": [
            "⠹ Processed 2 chunks, 24 entities(duplicated), 9 relations(duplicated)\r"
          ]
        },
        {
          "name": "stderr",
          "output_type": "stream",
          "text": [
            "\n",
            "Extracting entities from chunks:  67%|██████▋   | 2/3 [00:30<00:16, 16.52s/chunk]\u001b[A"
          ]
        },
        {
          "name": "stdout",
          "output_type": "stream",
          "text": [
            "⠸ Processed 3 chunks, 51 entities(duplicated), 26 relations(duplicated)\r"
          ]
        },
        {
          "name": "stderr",
          "output_type": "stream",
          "text": [
            "\n",
            "Extracting entities from chunks: 100%|██████████| 3/3 [00:36<00:00, 12.19s/chunk]\n",
            "\n",
            "Inserting entities: 100%|██████████| 40/40 [00:00<00:00, 3271.82entity/s]\n",
            "\n",
            "Inserting relationships: 100%|██████████| 24/24 [00:00<00:00, 3006.31relationship/s]\n",
            "\n",
            "Generating embeddings:   0%|          | 0/2 [00:00<?, ?batch/s]\u001b[A\n",
            "Generating embeddings:  50%|█████     | 1/2 [00:01<00:01,  1.10s/batch]\u001b[A\n",
            "Generating embeddings: 100%|██████████| 2/2 [00:01<00:00,  1.12batch/s]\n",
            "\n",
            "Generating embeddings:   0%|          | 0/1 [00:00<?, ?batch/s]\u001b[A\n",
            "Generating embeddings: 100%|██████████| 1/1 [00:01<00:00,  1.23s/batch]\n",
            "Processing batch 1: 100%|██████████| 1/1 [00:44<00:00, 44.99s/it]\n"
          ]
        }
      ],
      "source": [
        "# Build the RAG\n",
        "with open(\"greek_gods.txt\", \"r\") as file:\n",
        "  rag.insert(file.read())"
      ]
    },
    {
      "cell_type": "markdown",
      "metadata": {
        "id": "OtCyNpJ4vxqg"
      },
      "source": [
        "# RAG"
      ]
    },
    {
      "cell_type": "code",
      "execution_count": 18,
      "metadata": {
        "colab": {
          "base_uri": "https://localhost:8080/",
          "height": 215
        },
        "id": "OlXEeI_2px70",
        "outputId": "d6bff4c9-7042-4f81-f754-1df40d435362"
      },
      "outputs": [
        {
          "data": {
            "text/markdown": [
              "Hermes is a fascinating figure from Greek mythology, known as the messenger of the gods. He is the son of Zeus and is famous for his speed and cunning nature. According to the myth, he was born in a cave and, within hours of his birth, created the first musical instrument, the lyre, using a tortoise shell and strings. This inventive spirit is a hallmark of Hermes' character.\n",
              "\n",
              "One intriguing story about Hermes involves him as a mischievous child. Shortly after creating the lyre, he encountered a herd of cattle belonging to Apollo, another god. Despite being a newborn, Hermes managed to steal the cattle and hide them. When Apollo discovered the theft, he was shocked to find such a young perpetrator. To resolve the issue, Hermes played the lyre for Apollo, who was so enchanted by the music that he allowed Hermes to keep the cattle in exchange for the lyre. This barter illustrates Hermes' cleverness and charm.\n",
              "\n",
              "Throughout his life, Hermes is depicted as wearing a winged hat and winged sandals, symbolizing his role as the swift messenger who could travel quickly between the realm of the gods and mortals. This ability to move freely between worlds allowed him to convey messages and assist gods and humans alike, making him an essential figure in many Greek myths and stories."
            ],
            "text/plain": [
              "<IPython.core.display.Markdown object>"
            ]
          },
          "execution_count": 18,
          "metadata": {},
          "output_type": "execute_result"
        }
      ],
      "source": [
        "# PErform Naive RAG\n",
        "def perform_rag(query, mode): # Changed function name to avoid shadowing\n",
        "  return Markdown(rag.query(query, # Now rag refers to the LightRAG object\n",
        "                            param = QueryParam(mode = mode)))\n",
        "query = \"Who is Hermes\"\n",
        "perform_rag(query, \"naive\") # Call the new function name"
      ]
    },
    {
      "cell_type": "code",
      "execution_count": 19,
      "metadata": {
        "colab": {
          "base_uri": "https://localhost:8080/",
          "height": 475
        },
        "id": "rfzW-AdrwtDc",
        "outputId": "d206221b-be3c-433c-ffdf-1b1fc09413fb"
      },
      "outputs": [
        {
          "name": "stdout",
          "output_type": "stream",
          "text": [
            "```json\n",
            "{\n",
            "  \"high_level_keywords\": [\"Hermes\"],\n",
            "  \"low_level_keywords\": [\"Greek mythology\", \"Messenger god\", \"God of trade\", \"God of thieves\", \"God of travelers\"]\n",
            "}\n",
            "```\n"
          ]
        },
        {
          "data": {
            "text/markdown": [
              "Hermes is a prominent figure in Greek mythology, known as the son of Zeus. He is often depicted as a mischievous character, playing the role of the messenger of the gods. Hermes is credited with inventing the first musical instrument, the lyre, which he created from a tortoise shell. This instrument played a significant role in one of his adventures involving Apollo.\n",
              "\n",
              "### Role and Symbolism\n",
              "Hermes is renowned for his cunning and adventurous spirit. His attributes include a winged hat and sandals, which enable him to travel swiftly. These characteristics make him an ideal messenger between gods and mortals. His role as a messenger is not merely symbolic but also active, as he participates in various divine activities and schemes.\n",
              "\n",
              "### Key Myths and Activities\n",
              "One famous myth involving Hermes describes his theft of Apollo's cattle. Despite being just a baby at the time, Hermes managed to steal the cattle and cleverly hide them. When Apollo confronted him, Hermes enchanted him with the music of the lyre, leading to a reconciliation where Apollo allowed Hermes to keep the cattle in exchange for the instrument. This story highlights Hermes's ingenuity and charm.\n",
              "\n",
              "### Relationships and Influence\n",
              "As the son of Zeus, Hermes was often seen accompanying his father in various escapades. One noted instance was their journey together disguised as mortals, testing the hospitality of humans, which led to significant events like the transformation of Baucis and Philemon's hut into a temple.\n",
              "\n",
              "Hermes's presence in mythology emphasizes his versatile role as a trickster, inventor, and mediator between realms, making him an enduring figure in Greek lore."
            ],
            "text/plain": [
              "<IPython.core.display.Markdown object>"
            ]
          },
          "execution_count": 19,
          "metadata": {},
          "output_type": "execute_result"
        }
      ],
      "source": [
        "# Perform LightRAG with a local search\n",
        "# This means we look into closer entities\n",
        "perform_rag(query, \"local\")"
      ]
    },
    {
      "cell_type": "code",
      "execution_count": 20,
      "metadata": {
        "colab": {
          "base_uri": "https://localhost:8080/",
          "height": 584
        },
        "id": "57pZ4Uj2yYJ4",
        "outputId": "08db57d1-226e-4ee0-b654-f8c0e6310b32"
      },
      "outputs": [
        {
          "name": "stdout",
          "output_type": "stream",
          "text": [
            "```json\n",
            "{\n",
            "  \"high_level_keywords\": [\"Hermes\", \"Mythology\"],\n",
            "  \"low_level_keywords\": [\"Greek\", \"Messenger god\", \"God of trade\", \"Winged sandals\", \"Olympian gods\"]\n",
            "}\n",
            "```\n"
          ]
        },
        {
          "data": {
            "text/markdown": [
              "### Overview of Hermes\n",
              "\n",
              "Hermes is a fascinating figure in Greek mythology known primarily for his role as the messenger of the gods. He is a complex character associated with numerous traits and stories that illustrate his cunning and versatility.\n",
              "\n",
              "### Parentage and Characteristics\n",
              "\n",
              "Hermes is the son of Zeus, the chief god of Olympus, which positions him among the revered Greek pantheon. His mother, although not specified in the provided data, is typically regarded as Maia, one of the Pleiades in mythology.\n",
              "\n",
              "### Roles and Activities\n",
              "\n",
              "Hermes is depicted as a clever and mischievous youth, embodying the qualities of agility and intelligence. One of his notable contributions to the mythological world is the creation of the lyre, a musical instrument crafted from a tortoise shell, which demonstrates his inventive nature. Beyond his musical talent, Hermes is also known for being a cunning thief. A story highlights how he stole cattle belonging to Apollo, another prominent god, and later placated Apollo with the enchanting music of the lyre—the same instrument Hermes had created.\n",
              "\n",
              "### Symbols and Attributes\n",
              "\n",
              "Hermes is traditionally represented with a winged hat and sandals, enabling him to travel swiftly. This imagery reinforces his role as the fast-moving messenger tasked with delivering divine messages between the gods and mortals. His ability to traverse different realms with speed and stealth further cements his status as a versatile and indispensable god within Greek mythology.\n",
              "\n",
              "### Legacy\n",
              "\n",
              "Through his clever and often cheeky exploits, Hermes exhibits a duality; while he engages in acts of deceit and theft, he also brings innovation and charm. This duality makes him a compelling deity who bridges the gap between mortals and the divine, serving as a crucial link within the mythological narratives of Greek culture."
            ],
            "text/plain": [
              "<IPython.core.display.Markdown object>"
            ]
          },
          "execution_count": 20,
          "metadata": {},
          "output_type": "execute_result"
        }
      ],
      "source": [
        "# Perform LightRAG with Global Search\n",
        "# More diverse results, global entity relationships\n",
        "perform_rag(query, \"global\")"
      ]
    },
    {
      "cell_type": "code",
      "execution_count": 21,
      "metadata": {
        "colab": {
          "base_uri": "https://localhost:8080/",
          "height": 301
        },
        "id": "GTz7JfdLy1Gt",
        "outputId": "0d1d9d5d-d3f5-4250-bfea-3c037b8d066e"
      },
      "outputs": [
        {
          "name": "stdout",
          "output_type": "stream",
          "text": [
            "```json\n",
            "{\n",
            "  \"high_level_keywords\": [\"Hermes\", \"Mythology\", \"Cultural significance\"],\n",
            "  \"low_level_keywords\": [\"Greek god\", \"Messenger\", \"Commerce\", \"Travellers\", \"Thieves\", \"Symbol\", \"Wings\", \"Caduceus\"]\n",
            "}\n",
            "```\n"
          ]
        },
        {
          "data": {
            "text/markdown": [
              "Hermes is a fascinating figure in Greek mythology, renowned for his multifaceted role among the gods. Known as the son of Zeus, Hermes occupies the position of the divine messenger, which is a role he fulfilled with notable speed and cunning. This ability to traverse swiftly between worlds is symbolized by his winged hat and sandals, allowing him to deliver messages for the gods and interact with mortals with remarkable agility.\n",
              "\n",
              "In addition to his duties as a messenger, Hermes is depicted as a mischievous character with a knack for cleverness. One of his notable feats includes creating the first musical instrument, the lyre, fashioned from a tortoise shell. His ingenuity didn't stop there; young Hermes famously stole a herd of cattle from Apollo. This theft, however, led to an unexpected outcome. When Apollo discovered the baby Hermes as the culprit, Hermes charmed him with the enchanting music of the lyre. So beguiled was Apollo by the music that he forgave Hermes, striking a generous bargain where Hermes kept the cattle in exchange for the lyre.\n",
              "\n",
              "Throughout various myths, Hermes is characterized by his adaptability and resourcefulness, making him an essential figure within the pantheon of Greek gods. His attributes and actions reflect not only his role as a messenger and trickster but also his importance in various domains of life and human interaction."
            ],
            "text/plain": [
              "<IPython.core.display.Markdown object>"
            ]
          },
          "execution_count": 21,
          "metadata": {},
          "output_type": "execute_result"
        }
      ],
      "source": [
        "# Perform LightRAG with Hybrid approach\n",
        "perform_rag(query, \"hybrid\")"
      ]
    },
    {
      "cell_type": "markdown",
      "metadata": {
        "id": "zMS9Gxv3zzsZ"
      },
      "source": [
        "# Graph Visualization"
      ]
    },
    {
      "cell_type": "code",
      "execution_count": 22,
      "metadata": {
        "id": "j_klTtgkz0_9"
      },
      "outputs": [],
      "source": [
        "# Import libraries\n",
        "import networkx as nx\n",
        "from pyvis.network import Network\n",
        "import matplotlib.pyplot as plt\n",
        "import random\n",
        "from IPython.display import HTML"
      ]
    },
    {
      "cell_type": "code",
      "execution_count": 23,
      "metadata": {
        "colab": {
          "base_uri": "https://localhost:8080/",
          "height": 651
        },
        "id": "9nnMRa9dz8f9",
        "outputId": "467f3a28-3c64-4bef-9573-ae7c92b31755"
      },
      "outputs": [
        {
          "name": "stdout",
          "output_type": "stream",
          "text": [
            "graph.html\n"
          ]
        },
        {
          "data": {
            "text/html": [
              "<html>\n",
              "    <head>\n",
              "        <meta charset=\"utf-8\">\n",
              "        \n",
              "            <script>function neighbourhoodHighlight(params) {\n",
              "  // console.log(\"in nieghbourhoodhighlight\");\n",
              "  allNodes = nodes.get({ returnType: \"Object\" });\n",
              "  // originalNodes = JSON.parse(JSON.stringify(allNodes));\n",
              "  // if something is selected:\n",
              "  if (params.nodes.length > 0) {\n",
              "    highlightActive = true;\n",
              "    var i, j;\n",
              "    var selectedNode = params.nodes[0];\n",
              "    var degrees = 2;\n",
              "\n",
              "    // mark all nodes as hard to read.\n",
              "    for (let nodeId in allNodes) {\n",
              "      // nodeColors[nodeId] = allNodes[nodeId].color;\n",
              "      allNodes[nodeId].color = \"rgba(200,200,200,0.5)\";\n",
              "      if (allNodes[nodeId].hiddenLabel === undefined) {\n",
              "        allNodes[nodeId].hiddenLabel = allNodes[nodeId].label;\n",
              "        allNodes[nodeId].label = undefined;\n",
              "      }\n",
              "    }\n",
              "    var connectedNodes = network.getConnectedNodes(selectedNode);\n",
              "    var allConnectedNodes = [];\n",
              "\n",
              "    // get the second degree nodes\n",
              "    for (i = 1; i < degrees; i++) {\n",
              "      for (j = 0; j < connectedNodes.length; j++) {\n",
              "        allConnectedNodes = allConnectedNodes.concat(\n",
              "          network.getConnectedNodes(connectedNodes[j])\n",
              "        );\n",
              "      }\n",
              "    }\n",
              "\n",
              "    // all second degree nodes get a different color and their label back\n",
              "    for (i = 0; i < allConnectedNodes.length; i++) {\n",
              "      // allNodes[allConnectedNodes[i]].color = \"pink\";\n",
              "      allNodes[allConnectedNodes[i]].color = \"rgba(150,150,150,0.75)\";\n",
              "      if (allNodes[allConnectedNodes[i]].hiddenLabel !== undefined) {\n",
              "        allNodes[allConnectedNodes[i]].label =\n",
              "          allNodes[allConnectedNodes[i]].hiddenLabel;\n",
              "        allNodes[allConnectedNodes[i]].hiddenLabel = undefined;\n",
              "      }\n",
              "    }\n",
              "\n",
              "    // all first degree nodes get their own color and their label back\n",
              "    for (i = 0; i < connectedNodes.length; i++) {\n",
              "      // allNodes[connectedNodes[i]].color = undefined;\n",
              "      allNodes[connectedNodes[i]].color = nodeColors[connectedNodes[i]];\n",
              "      if (allNodes[connectedNodes[i]].hiddenLabel !== undefined) {\n",
              "        allNodes[connectedNodes[i]].label =\n",
              "          allNodes[connectedNodes[i]].hiddenLabel;\n",
              "        allNodes[connectedNodes[i]].hiddenLabel = undefined;\n",
              "      }\n",
              "    }\n",
              "\n",
              "    // the main node gets its own color and its label back.\n",
              "    // allNodes[selectedNode].color = undefined;\n",
              "    allNodes[selectedNode].color = nodeColors[selectedNode];\n",
              "    if (allNodes[selectedNode].hiddenLabel !== undefined) {\n",
              "      allNodes[selectedNode].label = allNodes[selectedNode].hiddenLabel;\n",
              "      allNodes[selectedNode].hiddenLabel = undefined;\n",
              "    }\n",
              "  } else if (highlightActive === true) {\n",
              "    // console.log(\"highlightActive was true\");\n",
              "    // reset all nodes\n",
              "    for (let nodeId in allNodes) {\n",
              "      // allNodes[nodeId].color = \"purple\";\n",
              "      allNodes[nodeId].color = nodeColors[nodeId];\n",
              "      // delete allNodes[nodeId].color;\n",
              "      if (allNodes[nodeId].hiddenLabel !== undefined) {\n",
              "        allNodes[nodeId].label = allNodes[nodeId].hiddenLabel;\n",
              "        allNodes[nodeId].hiddenLabel = undefined;\n",
              "      }\n",
              "    }\n",
              "    highlightActive = false;\n",
              "  }\n",
              "\n",
              "  // transform the object into an array\n",
              "  var updateArray = [];\n",
              "  if (params.nodes.length > 0) {\n",
              "    for (let nodeId in allNodes) {\n",
              "      if (allNodes.hasOwnProperty(nodeId)) {\n",
              "        // console.log(allNodes[nodeId]);\n",
              "        updateArray.push(allNodes[nodeId]);\n",
              "      }\n",
              "    }\n",
              "    nodes.update(updateArray);\n",
              "  } else {\n",
              "    // console.log(\"Nothing was selected\");\n",
              "    for (let nodeId in allNodes) {\n",
              "      if (allNodes.hasOwnProperty(nodeId)) {\n",
              "        // console.log(allNodes[nodeId]);\n",
              "        // allNodes[nodeId].color = {};\n",
              "        updateArray.push(allNodes[nodeId]);\n",
              "      }\n",
              "    }\n",
              "    nodes.update(updateArray);\n",
              "  }\n",
              "}\n",
              "\n",
              "function filterHighlight(params) {\n",
              "  allNodes = nodes.get({ returnType: \"Object\" });\n",
              "  // if something is selected:\n",
              "  if (params.nodes.length > 0) {\n",
              "    filterActive = true;\n",
              "    let selectedNodes = params.nodes;\n",
              "\n",
              "    // hiding all nodes and saving the label\n",
              "    for (let nodeId in allNodes) {\n",
              "      allNodes[nodeId].hidden = true;\n",
              "      if (allNodes[nodeId].savedLabel === undefined) {\n",
              "        allNodes[nodeId].savedLabel = allNodes[nodeId].label;\n",
              "        allNodes[nodeId].label = undefined;\n",
              "      }\n",
              "    }\n",
              "\n",
              "    for (let i=0; i < selectedNodes.length; i++) {\n",
              "      allNodes[selectedNodes[i]].hidden = false;\n",
              "      if (allNodes[selectedNodes[i]].savedLabel !== undefined) {\n",
              "        allNodes[selectedNodes[i]].label = allNodes[selectedNodes[i]].savedLabel;\n",
              "        allNodes[selectedNodes[i]].savedLabel = undefined;\n",
              "      }\n",
              "    }\n",
              "\n",
              "  } else if (filterActive === true) {\n",
              "    // reset all nodes\n",
              "    for (let nodeId in allNodes) {\n",
              "      allNodes[nodeId].hidden = false;\n",
              "      if (allNodes[nodeId].savedLabel !== undefined) {\n",
              "        allNodes[nodeId].label = allNodes[nodeId].savedLabel;\n",
              "        allNodes[nodeId].savedLabel = undefined;\n",
              "      }\n",
              "    }\n",
              "    filterActive = false;\n",
              "  }\n",
              "\n",
              "  // transform the object into an array\n",
              "  var updateArray = [];\n",
              "  if (params.nodes.length > 0) {\n",
              "    for (let nodeId in allNodes) {\n",
              "      if (allNodes.hasOwnProperty(nodeId)) {\n",
              "        updateArray.push(allNodes[nodeId]);\n",
              "      }\n",
              "    }\n",
              "    nodes.update(updateArray);\n",
              "  } else {\n",
              "    for (let nodeId in allNodes) {\n",
              "      if (allNodes.hasOwnProperty(nodeId)) {\n",
              "        updateArray.push(allNodes[nodeId]);\n",
              "      }\n",
              "    }\n",
              "    nodes.update(updateArray);\n",
              "  }\n",
              "}\n",
              "\n",
              "function selectNode(nodes) {\n",
              "  network.selectNodes(nodes);\n",
              "  neighbourhoodHighlight({ nodes: nodes });\n",
              "  return nodes;\n",
              "}\n",
              "\n",
              "function selectNodes(nodes) {\n",
              "  network.selectNodes(nodes);\n",
              "  filterHighlight({nodes: nodes});\n",
              "  return nodes;\n",
              "}\n",
              "\n",
              "function highlightFilter(filter) {\n",
              "  let selectedNodes = []\n",
              "  let selectedProp = filter['property']\n",
              "  if (filter['item'] === 'node') {\n",
              "    let allNodes = nodes.get({ returnType: \"Object\" });\n",
              "    for (let nodeId in allNodes) {\n",
              "      if (allNodes[nodeId][selectedProp] && filter['value'].includes((allNodes[nodeId][selectedProp]).toString())) {\n",
              "        selectedNodes.push(nodeId)\n",
              "      }\n",
              "    }\n",
              "  }\n",
              "  else if (filter['item'] === 'edge'){\n",
              "    let allEdges = edges.get({returnType: 'object'});\n",
              "    // check if the selected property exists for selected edge and select the nodes connected to the edge\n",
              "    for (let edge in allEdges) {\n",
              "      if (allEdges[edge][selectedProp] && filter['value'].includes((allEdges[edge][selectedProp]).toString())) {\n",
              "        selectedNodes.push(allEdges[edge]['from'])\n",
              "        selectedNodes.push(allEdges[edge]['to'])\n",
              "      }\n",
              "    }\n",
              "  }\n",
              "  selectNodes(selectedNodes)\n",
              "}</script>\n",
              "            <link rel=\"stylesheet\" href=\"https://cdnjs.cloudflare.com/ajax/libs/vis-network/9.1.2/dist/dist/vis-network.min.css\" integrity=\"sha512-WgxfT5LWjfszlPHXRmBWHkV2eceiWTOBvrKCNbdgDYTHrT2AeLCGbF4sZlZw3UMN3WtL0tGUoIAKsu8mllg/XA==\" crossorigin=\"anonymous\" referrerpolicy=\"no-referrer\" />\n",
              "            <script src=\"https://cdnjs.cloudflare.com/ajax/libs/vis-network/9.1.2/dist/vis-network.min.js\" integrity=\"sha512-LnvoEWDFrqGHlHmDD2101OrLcbsfkrzoSpvtSQtxK3RMnRV0eOkhhBN2dXHKRrUU8p2DGRTk35n4O8nWSVe1mQ==\" crossorigin=\"anonymous\" referrerpolicy=\"no-referrer\"></script>\n",
              "            \n",
              "            \n",
              "            \n",
              "            \n",
              "            \n",
              "            \n",
              "\n",
              "        \n",
              "<center>\n",
              "<h1></h1>\n",
              "</center>\n",
              "\n",
              "<!-- <link rel=\"stylesheet\" href=\"../node_modules/vis/dist/vis.min.css\" type=\"text/css\" />\n",
              "<script type=\"text/javascript\" src=\"../node_modules/vis/dist/vis.js\"> </script>-->\n",
              "        <link\n",
              "          href=\"https://cdn.jsdelivr.net/npm/bootstrap@5.0.0-beta3/dist/css/bootstrap.min.css\"\n",
              "          rel=\"stylesheet\"\n",
              "          integrity=\"sha384-eOJMYsd53ii+scO/bJGFsiCZc+5NDVN2yr8+0RDqr0Ql0h+rP48ckxlpbzKgwra6\"\n",
              "          crossorigin=\"anonymous\"\n",
              "        />\n",
              "        <script\n",
              "          src=\"https://cdn.jsdelivr.net/npm/bootstrap@5.0.0-beta3/dist/js/bootstrap.bundle.min.js\"\n",
              "          integrity=\"sha384-JEW9xMcG8R+pH31jmWH6WWP0WintQrMb4s7ZOdauHnUtxwoG2vI5DkLtS3qm9Ekf\"\n",
              "          crossorigin=\"anonymous\"\n",
              "        ></script>\n",
              "\n",
              "\n",
              "        <center>\n",
              "          <h1></h1>\n",
              "        </center>\n",
              "        <style type=\"text/css\">\n",
              "\n",
              "             #mynetwork {\n",
              "                 width: 100%;\n",
              "                 height: 600px;\n",
              "                 background-color: #ffffff;\n",
              "                 border: 1px solid lightgray;\n",
              "                 position: relative;\n",
              "                 float: left;\n",
              "             }\n",
              "\n",
              "             \n",
              "\n",
              "             \n",
              "\n",
              "             \n",
              "        </style>\n",
              "    </head>\n",
              "\n",
              "\n",
              "    <body>\n",
              "        <div class=\"card\" style=\"width: 100%\">\n",
              "            \n",
              "            \n",
              "            <div id=\"mynetwork\" class=\"card-body\"></div>\n",
              "        </div>\n",
              "\n",
              "        \n",
              "        \n",
              "\n",
              "        <script type=\"text/javascript\">\n",
              "\n",
              "              // initialize global variables.\n",
              "              var edges;\n",
              "              var nodes;\n",
              "              var allNodes;\n",
              "              var allEdges;\n",
              "              var nodeColors;\n",
              "              var originalNodes;\n",
              "              var network;\n",
              "              var container;\n",
              "              var options, data;\n",
              "              var filter = {\n",
              "                  item : '',\n",
              "                  property : '',\n",
              "                  value : []\n",
              "              };\n",
              "\n",
              "              \n",
              "\n",
              "              \n",
              "\n",
              "              // This method is responsible for drawing the graph, returns the drawn network\n",
              "              function drawGraph() {\n",
              "                  var container = document.getElementById('mynetwork');\n",
              "\n",
              "                  \n",
              "\n",
              "                  // parsing and collecting nodes and edges from the python\n",
              "                  nodes = new vis.DataSet([{\"color\": \"#8a1bff\", \"description\": \"\\\"Aphrodite is the goddess of love and beauty, who inadvertently caused a war over the golden apple labeled \\u0027For the fairest.\\u0027\\\"\\u003cSEP\\u003e\\\"Aphrodite is the goddess of love, known for her beauty and inadvertently starting a war through the contest judged by Paris.\\\"\", \"entity_type\": \"\\\"PERSON\\\"\", \"id\": \"\\\"APHRODITE\\\"\", \"label\": \"\\\"APHRODITE\\\"\", \"shape\": \"dot\", \"size\": 10, \"source_id\": \"chunk-c47105a85a51888bf9c5ba21170034a3\\u003cSEP\\u003echunk-72100c22ea009ce52c5913e0dde029b4\", \"title\": \"\\\"Aphrodite is the goddess of love and beauty, who inadvertently caused a war over the golden apple labeled \\u0027For the fairest.\\u0027\\\"\\u003cSEP\\u003e\\\"Aphrodite is the goddess of love, known for her beauty and inadvertently starting a war through the contest judged by Paris.\\\"\"}, {\"color\": \"#24e4ed\", \"description\": \"\\\"Eris is known as a troublemaker and played a critical role in the events leading to the Trojan War by creating the golden apple.\\\"\\u003cSEP\\u003e\\\"Eris is the goddess known for being a troublemaker. She created a golden apple to spark discord among the goddesses Hera, Aphrodite, and Athena.\\\"\", \"entity_type\": \"\\\"PERSON\\\"\", \"id\": \"\\\"ERIS\\\"\", \"label\": \"\\\"ERIS\\\"\", \"shape\": \"dot\", \"size\": 10, \"source_id\": \"chunk-c47105a85a51888bf9c5ba21170034a3\\u003cSEP\\u003echunk-72100c22ea009ce52c5913e0dde029b4\", \"title\": \"\\\"Eris is known as a troublemaker and played a critical role in the events leading to the Trojan War by creating the golden apple.\\\"\\u003cSEP\\u003e\\\"Eris is the goddess known for being a troublemaker. She created a golden apple to spark discord among the goddesses Hera, Aphrodite, and Athena.\\\"\"}, {\"color\": \"#e9a60d\", \"description\": \"\\\"Paris is a mortal chosen to judge which goddess deserved the golden apple, deciding in favor of Aphrodite.\\\"\", \"entity_type\": \"\\\"PERSON\\\"\", \"id\": \"\\\"PARIS\\\"\", \"label\": \"\\\"PARIS\\\"\", \"shape\": \"dot\", \"size\": 10, \"source_id\": \"chunk-c47105a85a51888bf9c5ba21170034a3\", \"title\": \"\\\"Paris is a mortal chosen to judge which goddess deserved the golden apple, deciding in favor of Aphrodite.\\\"\"}, {\"color\": \"#399c49\", \"description\": \"\\\"Ares is the god of war, characterized by his shield and armor, as well as his unfaithful conduct in battle. He is depicted as conflicted in the Trojan War.\\\"\", \"entity_type\": \"\\\"PERSON\\\"\", \"id\": \"\\\"ARES\\\"\", \"label\": \"\\\"ARES\\\"\", \"shape\": \"dot\", \"size\": 10, \"source_id\": \"chunk-72100c22ea009ce52c5913e0dde029b4\", \"title\": \"\\\"Ares is the god of war, characterized by his shield and armor, as well as his unfaithful conduct in battle. He is depicted as conflicted in the Trojan War.\\\"\"}, {\"color\": \"#d767f9\", \"description\": \"\\\"Baucis is depicted as a kind and hospitable elderly woman who, along with her husband Philemon, offers shelter and food to Zeus and Hermes.\\\"\", \"entity_type\": \"\\\"PERSON\\\"\", \"id\": \"\\\"BAUCIS\\\"\", \"label\": \"\\\"BAUCIS\\\"\", \"shape\": \"dot\", \"size\": 10, \"source_id\": \"chunk-72100c22ea009ce52c5913e0dde029b4\", \"title\": \"\\\"Baucis is depicted as a kind and hospitable elderly woman who, along with her husband Philemon, offers shelter and food to Zeus and Hermes.\\\"\"}, {\"color\": \"#798d56\", \"description\": \"\\\"Zeus is Hades and Poseidon\\u0027s brother, a central figure among the Greek gods.\\\"\\u003cSEP\\u003e\\\"Zeus is the god of the sky and ruler of the Greek gods. He is known for traveling with his son Hermes, and for his ability to transform and reward people who show kindness.\\\"\", \"entity_type\": \"\\\"PERSON\\\"\", \"id\": \"\\\"ZEUS\\\"\", \"label\": \"\\\"ZEUS\\\"\", \"shape\": \"dot\", \"size\": 10, \"source_id\": \"chunk-c47105a85a51888bf9c5ba21170034a3\\u003cSEP\\u003echunk-72100c22ea009ce52c5913e0dde029b4\", \"title\": \"\\\"Zeus is Hades and Poseidon\\u0027s brother, a central figure among the Greek gods.\\\"\\u003cSEP\\u003e\\\"Zeus is the god of the sky and ruler of the Greek gods. He is known for traveling with his son Hermes, and for his ability to transform and reward people who show kindness.\\\"\"}, {\"color\": \"#a0ef12\", \"description\": \"\\\"Philemon is Baucis\\u0027s husband. Together, they provide hospitality to gods disguised as mortals, which is rewarded by Zeus.\\\"\", \"entity_type\": \"\\\"PERSON\\\"\", \"id\": \"\\\"PHILEMON\\\"\", \"label\": \"\\\"PHILEMON\\\"\", \"shape\": \"dot\", \"size\": 10, \"source_id\": \"chunk-72100c22ea009ce52c5913e0dde029b4\", \"title\": \"\\\"Philemon is Baucis\\u0027s husband. Together, they provide hospitality to gods disguised as mortals, which is rewarded by Zeus.\\\"\"}, {\"color\": \"#6439e6\", \"description\": \"\\\"Hestia is the oldest goddess of Olympus, responsible for home and family, and she refused to marry Apollo or Poseidon.\\\"\", \"entity_type\": \"\\\"PERSON\\\"\", \"id\": \"\\\"HESTIA\\\"\", \"label\": \"\\\"HESTIA\\\"\", \"shape\": \"dot\", \"size\": 10, \"source_id\": \"chunk-c47105a85a51888bf9c5ba21170034a3\", \"title\": \"\\\"Hestia is the oldest goddess of Olympus, responsible for home and family, and she refused to marry Apollo or Poseidon.\\\"\"}, {\"color\": \"#eb9640\", \"description\": \"\\\"Hermes is the son of Zeus, known for his role as a messenger of the gods. He is depicted as mischievous and is credited with creating the first musical instrument, the lyre.\\\"\", \"entity_type\": \"\\\"PERSON\\\"\", \"id\": \"\\\"HERMES\\\"\", \"label\": \"\\\"HERMES\\\"\", \"shape\": \"dot\", \"size\": 10, \"source_id\": \"chunk-72100c22ea009ce52c5913e0dde029b4\", \"title\": \"\\\"Hermes is the son of Zeus, known for his role as a messenger of the gods. He is depicted as mischievous and is credited with creating the first musical instrument, the lyre.\\\"\"}, {\"color\": \"#c6d197\", \"description\": \"\\\"Hephaestus, son of Hera, crafted a golden throne used to trick and capture Hera as revenge.\\\"\", \"entity_type\": \"\\\"PERSON\\\"\", \"id\": \"\\\"HEPHAESTUS\\\"\", \"label\": \"\\\"HEPHAESTUS\\\"\", \"shape\": \"dot\", \"size\": 10, \"source_id\": \"chunk-c47105a85a51888bf9c5ba21170034a3\", \"title\": \"\\\"Hephaestus, son of Hera, crafted a golden throne used to trick and capture Hera as revenge.\\\"\"}, {\"color\": \"#06b825\", \"description\": \"\\\"Hera is a goddess who competed for the golden apple and is recognized as Hephaestus\\u0027 mother.\\\"\\u003cSEP\\u003e\\\"Hera is the goddess of marriage and family, one of the key figures in Greek mythology, and a participant in the dispute over the golden apple.\\\"\", \"entity_type\": \"\\\"PERSON\\\"\", \"id\": \"\\\"HERA\\\"\", \"label\": \"\\\"HERA\\\"\", \"shape\": \"dot\", \"size\": 10, \"source_id\": \"chunk-c47105a85a51888bf9c5ba21170034a3\\u003cSEP\\u003echunk-72100c22ea009ce52c5913e0dde029b4\", \"title\": \"\\\"Hera is a goddess who competed for the golden apple and is recognized as Hephaestus\\u0027 mother.\\\"\\u003cSEP\\u003e\\\"Hera is the goddess of marriage and family, one of the key figures in Greek mythology, and a participant in the dispute over the golden apple.\\\"\"}, {\"color\": \"#c035e9\", \"description\": \"\\\"Helen is considered the most beautiful woman in the world, whose affair with Paris led to the Trojan War.\\\"\", \"entity_type\": \"\\\"PERSON\\\"\", \"id\": \"\\\"HELEN\\\"\", \"label\": \"\\\"HELEN\\\"\", \"shape\": \"dot\", \"size\": 10, \"source_id\": \"chunk-c47105a85a51888bf9c5ba21170034a3\", \"title\": \"\\\"Helen is considered the most beautiful woman in the world, whose affair with Paris led to the Trojan War.\\\"\"}, {\"color\": \"#c1681a\", \"description\": \"\\\"The Trojan War is a significant conflict in which Ares switches allegiances from the Greeks to the Trojans.\\\"\\u003cSEP\\u003e\\\"The Trojan War was a conflict that lasted ten years, resulting from Helen\\u0027s departure to Troy with Paris.\\\"\", \"entity_type\": \"\\\"EVENT\\\"\", \"id\": \"\\\"TROJAN WAR\\\"\", \"label\": \"\\\"TROJAN WAR\\\"\", \"shape\": \"dot\", \"size\": 10, \"source_id\": \"chunk-c47105a85a51888bf9c5ba21170034a3\\u003cSEP\\u003echunk-72100c22ea009ce52c5913e0dde029b4\", \"title\": \"\\\"The Trojan War is a significant conflict in which Ares switches allegiances from the Greeks to the Trojans.\\\"\\u003cSEP\\u003e\\\"The Trojan War was a conflict that lasted ten years, resulting from Helen\\u0027s departure to Troy with Paris.\\\"\"}, {\"color\": \"#7f016b\", \"description\": \"\\\"The Golden Apple is an object created by Eris with \\u0027For the fairest\\u0027 written on it, setting off a contest among the goddesses.\\\"\\u003cSEP\\u003e\\\"The golden apple, inscribed \\u0027For the fairest\\u0027, was created by Eris and caused strife among the goddesses Hera, Aphrodite, and Athena.\\\"\", \"entity_type\": \"\\\"CATEGORY\\\"\", \"id\": \"\\\"GOLDEN APPLE\\\"\", \"label\": \"\\\"GOLDEN APPLE\\\"\", \"shape\": \"dot\", \"size\": 10, \"source_id\": \"chunk-c47105a85a51888bf9c5ba21170034a3\\u003cSEP\\u003echunk-72100c22ea009ce52c5913e0dde029b4\", \"title\": \"\\\"The Golden Apple is an object created by Eris with \\u0027For the fairest\\u0027 written on it, setting off a contest among the goddesses.\\\"\\u003cSEP\\u003e\\\"The golden apple, inscribed \\u0027For the fairest\\u0027, was created by Eris and caused strife among the goddesses Hera, Aphrodite, and Athena.\\\"\"}, {\"color\": \"#3aad45\", \"description\": \"\\\"The Curse of Insatiable Hunger is the consequence imposed on Erysichthon by Demeter, causing him to suffer from eternal hunger as punishment.\\\"\", \"entity_type\": \"\\\"EVENT\\\"\", \"id\": \"\\\"CURSE OF INSATIABLE HUNGER\\\"\", \"label\": \"\\\"CURSE OF INSATIABLE HUNGER\\\"\", \"shape\": \"dot\", \"size\": 10, \"source_id\": \"chunk-0f21f77044f0743885ff9662ab720148\", \"title\": \"\\\"The Curse of Insatiable Hunger is the consequence imposed on Erysichthon by Demeter, causing him to suffer from eternal hunger as punishment.\\\"\"}, {\"color\": \"#f5c927\", \"description\": \"\\\"Erysichthon is a character cursed by Demeter to have an insatiable hunger for his transgressions.\\\"\\u003cSEP\\u003e\\\"Erysichthon is a character from Greek mythology who disrespects the divine and faces consequences for his actions.\\\"\\u003cSEP\\u003e\\\"Erysichthon is a self-centered man cursed by Demeter with insatiable hunger for cutting down her sacred tree.\\\"\", \"entity_type\": \"\\\"PERSON\\\"\", \"id\": \"\\\"ERYSICHTHON\\\"\", \"label\": \"\\\"ERYSICHTHON\\\"\", \"shape\": \"dot\", \"size\": 10, \"source_id\": \"chunk-c47105a85a51888bf9c5ba21170034a3\\u003cSEP\\u003echunk-0f21f77044f0743885ff9662ab720148\", \"title\": \"\\\"Erysichthon is a character cursed by Demeter to have an insatiable hunger for his transgressions.\\\"\\u003cSEP\\u003e\\\"Erysichthon is a character from Greek mythology who disrespects the divine and faces consequences for his actions.\\\"\\u003cSEP\\u003e\\\"Erysichthon is a self-centered man cursed by Demeter with insatiable hunger for cutting down her sacred tree.\\\"\"}, {\"color\": \"#ec2935\", \"description\": \"\\\"Demeter is a goddess who punishes Erysichthon with a curse due to his actions.\\\"\\u003cSEP\\u003e\\\"Demeter is an ancient Greek goddess of the harvest and agriculture, who punishes Erysichthon for his transgressions.\\\"\\u003cSEP\\u003e\\\"Demeter is the goddess of agriculture who punished Erysichthon for destroying her sacred oak tree.\\\"\", \"entity_type\": \"\\\"PERSON\\\"\", \"id\": \"\\\"DEMETER\\\"\", \"label\": \"\\\"DEMETER\\\"\", \"shape\": \"dot\", \"size\": 10, \"source_id\": \"chunk-c47105a85a51888bf9c5ba21170034a3\\u003cSEP\\u003echunk-0f21f77044f0743885ff9662ab720148\", \"title\": \"\\\"Demeter is a goddess who punishes Erysichthon with a curse due to his actions.\\\"\\u003cSEP\\u003e\\\"Demeter is an ancient Greek goddess of the harvest and agriculture, who punishes Erysichthon for his transgressions.\\\"\\u003cSEP\\u003e\\\"Demeter is the goddess of agriculture who punished Erysichthon for destroying her sacred oak tree.\\\"\"}, {\"color\": \"#44ec19\", \"description\": \"\\\"The Underworld is the realm of the dead, ruled by Hades, where souls were kept.\\\"\", \"entity_type\": \"\\\"GEO\\\"\", \"id\": \"\\\"UNDERWORLD\\\"\", \"label\": \"\\\"UNDERWORLD\\\"\", \"shape\": \"dot\", \"size\": 10, \"source_id\": \"chunk-c47105a85a51888bf9c5ba21170034a3\", \"title\": \"\\\"The Underworld is the realm of the dead, ruled by Hades, where souls were kept.\\\"\"}, {\"color\": \"#052323\", \"description\": \"\\\"Hades is the ruler of the Underworld, responsible for keeping the dead there, and is moved by Orpheus\\u0027 music.\\\"\", \"entity_type\": \"\\\"PERSON\\\"\", \"id\": \"\\\"HADES\\\"\", \"label\": \"\\\"HADES\\\"\", \"shape\": \"dot\", \"size\": 10, \"source_id\": \"chunk-c47105a85a51888bf9c5ba21170034a3\", \"title\": \"\\\"Hades is the ruler of the Underworld, responsible for keeping the dead there, and is moved by Orpheus\\u0027 music.\\\"\"}, {\"color\": \"#2cb71c\", \"description\": \"\\\"Orpheus is renowned for his singing, which enchanted Hades enough to allow him to temporarily reclaim his wife.\\\"\", \"entity_type\": \"\\\"PERSON\\\"\", \"id\": \"\\\"ORPHEUS\\\"\", \"label\": \"\\\"ORPHEUS\\\"\", \"shape\": \"dot\", \"size\": 10, \"source_id\": \"chunk-c47105a85a51888bf9c5ba21170034a3\", \"title\": \"\\\"Orpheus is renowned for his singing, which enchanted Hades enough to allow him to temporarily reclaim his wife.\\\"\"}, {\"color\": \"#4cb8cc\", \"description\": \"\\\"Athena is a goddess who competed for the golden apple and promised Paris courage and success in battle.\\\"\\u003cSEP\\u003e\\\"Athena is the wise and strong daughter of Zeus, known for her strategic combat skills. She provided the olive tree to the citizens of Athens, securing her role as their protector.\\\"\", \"entity_type\": \"\\\"PERSON\\\"\", \"id\": \"\\\"ATHENA\\\"\", \"label\": \"\\\"ATHENA\\\"\", \"shape\": \"dot\", \"size\": 10, \"source_id\": \"chunk-c47105a85a51888bf9c5ba21170034a3\\u003cSEP\\u003echunk-72100c22ea009ce52c5913e0dde029b4\", \"title\": \"\\\"Athena is a goddess who competed for the golden apple and promised Paris courage and success in battle.\\\"\\u003cSEP\\u003e\\\"Athena is the wise and strong daughter of Zeus, known for her strategic combat skills. She provided the olive tree to the citizens of Athens, securing her role as their protector.\\\"\"}, {\"color\": \"#fa7efd\", \"description\": \"\\\"Poseidon is the god of the seas, famous for wielding a trident and gifting saltwater to the people of a city, leading to rivalry with Athena.\\\"\\u003cSEP\\u003e\\\"Poseidon, a god of the sea and brother to Zeus and Hades, expressed love for Hestia.\\\"\", \"entity_type\": \"\\\"PERSON\\\"\", \"id\": \"\\\"POSEIDON\\\"\", \"label\": \"\\\"POSEIDON\\\"\", \"shape\": \"dot\", \"size\": 10, \"source_id\": \"chunk-c47105a85a51888bf9c5ba21170034a3\\u003cSEP\\u003echunk-72100c22ea009ce52c5913e0dde029b4\", \"title\": \"\\\"Poseidon is the god of the seas, famous for wielding a trident and gifting saltwater to the people of a city, leading to rivalry with Athena.\\\"\\u003cSEP\\u003e\\\"Poseidon, a god of the sea and brother to Zeus and Hades, expressed love for Hestia.\\\"\"}, {\"color\": \"#7eb5ce\", \"description\": \"\\\"Artemis, sister to Apollo, is the goddess of hunting and the moon, known for her cleverness and combat skills.\\\"\", \"entity_type\": \"\\\"PERSON\\\"\", \"id\": \"\\\"ARTEMIS\\\"\", \"label\": \"\\\"ARTEMIS\\\"\", \"shape\": \"dot\", \"size\": 10, \"source_id\": \"chunk-c47105a85a51888bf9c5ba21170034a3\", \"title\": \"\\\"Artemis, sister to Apollo, is the goddess of hunting and the moon, known for her cleverness and combat skills.\\\"\"}, {\"color\": \"#20cd7f\", \"description\": \"\\\"Alpheus is a river god who fell in love with Artemis and pursued her.\\\"\", \"entity_type\": \"\\\"PERSON\\\"\", \"id\": \"\\\"ALPHEUS\\\"\", \"label\": \"\\\"ALPHEUS\\\"\", \"shape\": \"dot\", \"size\": 10, \"source_id\": \"chunk-c47105a85a51888bf9c5ba21170034a3\", \"title\": \"\\\"Alpheus is a river god who fell in love with Artemis and pursued her.\\\"\"}, {\"color\": \"#65a24b\", \"description\": \"\\\"Nymphs are female followers of Artemis, who assisted her in avoiding Alpheus by covering their faces in mud.\\\"\", \"entity_type\": \"\\\"CATEGORY\\\"\", \"id\": \"\\\"NYMPHS\\\"\", \"label\": \"\\\"NYMPHS\\\"\", \"shape\": \"dot\", \"size\": 10, \"source_id\": \"chunk-c47105a85a51888bf9c5ba21170034a3\", \"title\": \"\\\"Nymphs are female followers of Artemis, who assisted her in avoiding Alpheus by covering their faces in mud.\\\"\"}, {\"color\": \"#b64ee2\", \"description\": \"\\\"Apollo is Artemis\\u0027 twin brother, known for declaring his love for Hestia.\\\"\\u003cSEP\\u003e\\\"Apollo is one of the Greek gods, described as the owner of a herd of cattle which Hermes steals, and is ultimately enchanted by Hermes\\u0027s music on the lyre.\\\"\", \"entity_type\": \"\\\"PERSON\\\"\", \"id\": \"\\\"APOLLO\\\"\", \"label\": \"\\\"APOLLO\\\"\", \"shape\": \"dot\", \"size\": 10, \"source_id\": \"chunk-c47105a85a51888bf9c5ba21170034a3\\u003cSEP\\u003echunk-72100c22ea009ce52c5913e0dde029b4\", \"title\": \"\\\"Apollo is Artemis\\u0027 twin brother, known for declaring his love for Hestia.\\\"\\u003cSEP\\u003e\\\"Apollo is one of the Greek gods, described as the owner of a herd of cattle which Hermes steals, and is ultimately enchanted by Hermes\\u0027s music on the lyre.\\\"\"}, {\"color\": \"#e731dc\", \"description\": \"\\\"Olympus is the home of the gods, where Hestia received a key and hosted Dionysus.\\\"\", \"entity_type\": \"\\\"GEO\\\"\", \"id\": \"\\\"OLYMPUS\\\"\", \"label\": \"\\\"OLYMPUS\\\"\", \"shape\": \"dot\", \"size\": 10, \"source_id\": \"chunk-c47105a85a51888bf9c5ba21170034a3\", \"title\": \"\\\"Olympus is the home of the gods, where Hestia received a key and hosted Dionysus.\\\"\"}, {\"color\": \"#b20101\", \"description\": \"\\\"The olive tree is a gift from Athena to the citizens of Athens, symbolizing peace, prosperity, and utility with various uses such as food, fuel, and material.\\\"\", \"entity_type\": \"\\\"CATEGORY\\\"\", \"id\": \"\\\"OLIVE TREE\\\"\", \"label\": \"\\\"OLIVE TREE\\\"\", \"shape\": \"dot\", \"size\": 10, \"source_id\": \"chunk-72100c22ea009ce52c5913e0dde029b4\", \"title\": \"\\\"The olive tree is a gift from Athena to the citizens of Athens, symbolizing peace, prosperity, and utility with various uses such as food, fuel, and material.\\\"\"}, {\"color\": \"#41c1a1\", \"description\": \"\\\"Thessaly is the location with the sacred oak tree dedicated to Demeter.\\\"\", \"entity_type\": \"\\\"GEO\\\"\", \"id\": \"\\\"THESSALY\\\"\", \"label\": \"\\\"THESSALY\\\"\", \"shape\": \"dot\", \"size\": 10, \"source_id\": \"chunk-c47105a85a51888bf9c5ba21170034a3\", \"title\": \"\\\"Thessaly is the location with the sacred oak tree dedicated to Demeter.\\\"\"}, {\"color\": \"#626982\", \"description\": \"\\\"The linden tree is one of the trees into which Philemon transformed, symbolizing his everlasting bond with Baucis, who turned into an oak tree.\\\"\", \"entity_type\": \"\\\"CATEGORY\\\"\", \"id\": \"\\\"LINDEN TREE\\\"\", \"label\": \"\\\"LINDEN TREE\\\"\", \"shape\": \"dot\", \"size\": 10, \"source_id\": \"chunk-72100c22ea009ce52c5913e0dde029b4\", \"title\": \"\\\"The linden tree is one of the trees into which Philemon transformed, symbolizing his everlasting bond with Baucis, who turned into an oak tree.\\\"\"}, {\"color\": \"#f18b58\", \"description\": \"\\\"Dionysus is the god of wine, who played a role in freeing Hera by intoxicating Hephaestus.\\\"\", \"entity_type\": \"\\\"PERSON\\\"\", \"id\": \"\\\"DIONYSUS\\\"\", \"label\": \"\\\"DIONYSUS\\\"\", \"shape\": \"dot\", \"size\": 10, \"source_id\": \"chunk-c47105a85a51888bf9c5ba21170034a3\", \"title\": \"\\\"Dionysus is the god of wine, who played a role in freeing Hera by intoxicating Hephaestus.\\\"\"}, {\"color\": \"#1a0f35\", \"description\": \"\\\"The oak tree is one of the trees into which Baucis transformed, representing her eternal connection with Philemon, who turned into a linden tree.\\\"\", \"entity_type\": \"\\\"CATEGORY\\\"\", \"id\": \"\\\"OAK TREE\\\"\", \"label\": \"\\\"OAK TREE\\\"\", \"shape\": \"dot\", \"size\": 10, \"source_id\": \"chunk-72100c22ea009ce52c5913e0dde029b4\", \"title\": \"\\\"The oak tree is one of the trees into which Baucis transformed, representing her eternal connection with Philemon, who turned into a linden tree.\\\"\"}, {\"color\": \"#2d68a5\", \"description\": \"\\\"Athens is the city that chose Athena as its protector after she offered them the olive tree, which had numerous uses for its people.\\\"\", \"entity_type\": \"\\\"GEO\\\"\", \"id\": \"\\\"ATHENS\\\"\", \"label\": \"\\\"ATHENS\\\"\", \"shape\": \"dot\", \"size\": 10, \"source_id\": \"chunk-72100c22ea009ce52c5913e0dde029b4\", \"title\": \"\\\"Athens is the city that chose Athena as its protector after she offered them the olive tree, which had numerous uses for its people.\\\"\"}, {\"color\": \"#abd752\", \"description\": \"\\\"Mount Olympus is the mythical home of the Greek gods and a place of significant events.\\\"\", \"entity_type\": \"\\\"GEO\\\"\", \"id\": \"\\\"MOUNT OLYMPUS\\\"\", \"label\": \"\\\"MOUNT OLYMPUS\\\"\", \"shape\": \"dot\", \"size\": 10, \"source_id\": \"chunk-c47105a85a51888bf9c5ba21170034a3\", \"title\": \"\\\"Mount Olympus is the mythical home of the Greek gods and a place of significant events.\\\"\"}, {\"color\": \"#9c7d22\", \"description\": \"\\\"The King of Sparta is Helen\\u0027s husband, who declared war on Troy after Helen eloped with Paris.\\\"\", \"entity_type\": \"\\\"PERSON\\\"\", \"id\": \"\\\"KING OF SPARTA\\\"\", \"label\": \"\\\"KING OF SPARTA\\\"\", \"shape\": \"dot\", \"size\": 10, \"source_id\": \"chunk-c47105a85a51888bf9c5ba21170034a3\", \"title\": \"\\\"The King of Sparta is Helen\\u0027s husband, who declared war on Troy after Helen eloped with Paris.\\\"\"}, {\"color\": \"#2d3c50\", \"description\": \"\\\"A catastrophic flood created by Zeus to punish those who refused him and Hermes hospitality, sparing only Baucis and Philemon.\\\"\", \"entity_type\": \"\\\"EVENT\\\"\", \"id\": \"\\\"FLOOD\\\"\", \"label\": \"\\\"FLOOD\\\"\", \"shape\": \"dot\", \"size\": 10, \"source_id\": \"chunk-72100c22ea009ce52c5913e0dde029b4\", \"title\": \"\\\"A catastrophic flood created by Zeus to punish those who refused him and Hermes hospitality, sparing only Baucis and Philemon.\\\"\"}, {\"color\": \"#9806ad\", \"description\": \"\\\"Troy is a city where Paris and Helen fled, triggering the Trojan War.\\\"\", \"entity_type\": \"\\\"GEO\\\"\", \"id\": \"\\\"TROY\\\"\", \"label\": \"\\\"TROY\\\"\", \"shape\": \"dot\", \"size\": 10, \"source_id\": \"chunk-c47105a85a51888bf9c5ba21170034a3\", \"title\": \"\\\"Troy is a city where Paris and Helen fled, triggering the Trojan War.\\\"\"}, {\"color\": \"#6213fe\", \"description\": \"\\\"The temple was once the humble home of Baucis and Philemon, transformed by Zeus to reward their hospitality.\\\"\", \"entity_type\": \"\\\"GEO\\\"\", \"id\": \"\\\"TEMPLE\\\"\", \"label\": \"\\\"TEMPLE\\\"\", \"shape\": \"dot\", \"size\": 10, \"source_id\": \"chunk-72100c22ea009ce52c5913e0dde029b4\", \"title\": \"\\\"The temple was once the humble home of Baucis and Philemon, transformed by Zeus to reward their hospitality.\\\"\"}, {\"color\": \"#57cd84\", \"description\": \"\\\"The lyre is the first musical instrument created by Hermes, used to enchant Apollo, and later became associated with Apollo.\\\"\", \"entity_type\": \"\\\"TECHNOLOGY\\\"\", \"id\": \"\\\"LYRE\\\"\", \"label\": \"\\\"LYRE\\\"\", \"shape\": \"dot\", \"size\": 10, \"source_id\": \"chunk-72100c22ea009ce52c5913e0dde029b4\", \"title\": \"\\\"The lyre is the first musical instrument created by Hermes, used to enchant Apollo, and later became associated with Apollo.\\\"\"}, {\"color\": \"#2c7404\", \"description\": \"\\\"The sea, controlled by Poseidon, was a prominent part of his gift to a city, symbolizing his power and the people\\u0027s connection to travel.\\\"\", \"entity_type\": \"\\\"GEO\\\"\", \"id\": \"\\\"SEA\\\"\", \"label\": \"\\\"SEA\\\"\", \"shape\": \"dot\", \"size\": 10, \"source_id\": \"chunk-72100c22ea009ce52c5913e0dde029b4\", \"title\": \"\\\"The sea, controlled by Poseidon, was a prominent part of his gift to a city, symbolizing his power and the people\\u0027s connection to travel.\\\"\"}]);\n",
              "                  edges = new vis.DataSet([{\"description\": \"\\\"Eris causes chaos by introducing the golden apple meant for Aphrodite, Hera, and Athena, leading to a war over beauty.\\\"\\u003cSEP\\u003e\\\"Eris initiated the contest that led Aphrodite to win the golden apple, causing a chain of events.\\\"\", \"from\": \"\\\"APHRODITE\\\"\", \"keywords\": \"\\\"chaos, discord\\\"\\u003cSEP\\u003e\\\"instigation, competition\\\"\", \"source_id\": \"chunk-c47105a85a51888bf9c5ba21170034a3\\u003cSEP\\u003echunk-72100c22ea009ce52c5913e0dde029b4\", \"title\": \"\\\"Eris causes chaos by introducing the golden apple meant for Aphrodite, Hera, and Athena, leading to a war over beauty.\\\"\\u003cSEP\\u003e\\\"Eris initiated the contest that led Aphrodite to win the golden apple, causing a chain of events.\\\"\", \"to\": \"\\\"ERIS\\\"\", \"width\": 16.0}, {\"description\": \"\\\"Aphrodite won Paris\\u0027 judgment in the contest by promising him the love of Helen, aiding Eris\\u0027 plan.\\\"\", \"from\": \"\\\"APHRODITE\\\"\", \"keywords\": \"\\\"manipulation, promise of love\\\"\", \"source_id\": \"chunk-c47105a85a51888bf9c5ba21170034a3\", \"title\": \"\\\"Aphrodite won Paris\\u0027 judgment in the contest by promising him the love of Helen, aiding Eris\\u0027 plan.\\\"\", \"to\": \"\\\"PARIS\\\"\", \"width\": 9.0}, {\"description\": \"\\\"Ares, in love with Aphrodite, betrays his promise to help the Greeks to support the Trojans instead during the Trojan War.\\\"\", \"from\": \"\\\"APHRODITE\\\"\", \"keywords\": \"\\\"love, betrayal\\\"\", \"source_id\": \"chunk-72100c22ea009ce52c5913e0dde029b4\", \"title\": \"\\\"Ares, in love with Aphrodite, betrays his promise to help the Greeks to support the Trojans instead during the Trojan War.\\\"\", \"to\": \"\\\"ARES\\\"\", \"width\": 7.0}, {\"description\": \"\\\"Zeus rewards Baucis for her and her husband\\u0027s hospitality by transforming their hut into a temple and ensuring they live together forever.\\\"\", \"from\": \"\\\"BAUCIS\\\"\", \"keywords\": \"\\\"reward, divine intervention\\\"\", \"source_id\": \"chunk-72100c22ea009ce52c5913e0dde029b4\", \"title\": \"\\\"Zeus rewards Baucis for her and her husband\\u0027s hospitality by transforming their hut into a temple and ensuring they live together forever.\\\"\", \"to\": \"\\\"ZEUS\\\"\", \"width\": 10.0}, {\"description\": \"\\\"Baucis and Philemon are a devoted couple who show great hospitality to Zeus and Hermes, leading to their home being spared from Zeus\\u0027s flood.\\\"\", \"from\": \"\\\"BAUCIS\\\"\", \"keywords\": \"\\\"marital devotion, hospitality\\\"\", \"source_id\": \"chunk-72100c22ea009ce52c5913e0dde029b4\", \"title\": \"\\\"Baucis and Philemon are a devoted couple who show great hospitality to Zeus and Hermes, leading to their home being spared from Zeus\\u0027s flood.\\\"\", \"to\": \"\\\"PHILEMON\\\"\", \"width\": 10.0}, {\"description\": \"\\\"Zeus assigned Hestia the guardianship of Olympus and acknowledged her desire for a peaceful life.\\\"\", \"from\": \"\\\"ZEUS\\\"\", \"keywords\": \"\\\"assignment, appreciation\\\"\", \"source_id\": \"chunk-c47105a85a51888bf9c5ba21170034a3\", \"title\": \"\\\"Zeus assigned Hestia the guardianship of Olympus and acknowledged her desire for a peaceful life.\\\"\", \"to\": \"\\\"HESTIA\\\"\", \"width\": 7.0}, {\"description\": \"\\\"Zeus is the father of Hermes, and together they travel in disguise, testing the hospitality of mortals.\\\"\", \"from\": \"\\\"ZEUS\\\"\", \"keywords\": \"\\\"father-son relationship, travel\\\"\", \"source_id\": \"chunk-72100c22ea009ce52c5913e0dde029b4\", \"title\": \"\\\"Zeus is the father of Hermes, and together they travel in disguise, testing the hospitality of mortals.\\\"\", \"to\": \"\\\"HERMES\\\"\", \"width\": 9.0}, {\"description\": \"\\\"Hephaestus captured his mother Hera with a trick to avenge how she treated him.\\\"\", \"from\": \"\\\"HEPHAESTUS\\\"\", \"keywords\": \"\\\"revenge, family conflict\\\"\", \"source_id\": \"chunk-c47105a85a51888bf9c5ba21170034a3\", \"title\": \"\\\"Hephaestus captured his mother Hera with a trick to avenge how she treated him.\\\"\", \"to\": \"\\\"HERA\\\"\", \"width\": 6.0}, {\"description\": \"\\\"Helen ran away with Paris, leading to the outbreak of the Trojan War.\\\"\", \"from\": \"\\\"PARIS\\\"\", \"keywords\": \"\\\"elopement, catalyst event\\\"\", \"source_id\": \"chunk-c47105a85a51888bf9c5ba21170034a3\", \"title\": \"\\\"Helen ran away with Paris, leading to the outbreak of the Trojan War.\\\"\", \"to\": \"\\\"HELEN\\\"\", \"width\": 10.0}, {\"description\": \"\\\"Paris\\u0027 choice of Aphrodite in the contest indirectly led to the Trojan War.\\\"\", \"from\": \"\\\"PARIS\\\"\", \"keywords\": \"\\\"cause and effect, godly influence\\\"\", \"source_id\": \"chunk-c47105a85a51888bf9c5ba21170034a3\", \"title\": \"\\\"Paris\\u0027 choice of Aphrodite in the contest indirectly led to the Trojan War.\\\"\", \"to\": \"\\\"TROJAN WAR\\\"\", \"width\": 10.0}, {\"description\": \"\\\"Eris created the Golden Apple to cause discord among the goddesses.\\\"\", \"from\": \"\\\"ERIS\\\"\", \"keywords\": \"\\\"discord creation, contest initiation\\\"\", \"source_id\": \"chunk-c47105a85a51888bf9c5ba21170034a3\", \"title\": \"\\\"Eris created the Golden Apple to cause discord among the goddesses.\\\"\", \"to\": \"\\\"GOLDEN APPLE\\\"\", \"width\": 9.0}, {\"description\": \"\\\"Erysichthon is the recipient of the Curse of Insatiable Hunger due to his inability to respect divine entities, leading to his eternal suffering.\\\"\", \"from\": \"\\\"CURSE OF INSATIABLE HUNGER\\\"\", \"keywords\": \"\\\"consequence, suffering\\\"\", \"source_id\": \"chunk-0f21f77044f0743885ff9662ab720148\", \"title\": \"\\\"Erysichthon is the recipient of the Curse of Insatiable Hunger due to his inability to respect divine entities, leading to his eternal suffering.\\\"\", \"to\": \"\\\"ERYSICHTHON\\\"\", \"width\": 8.0}, {\"description\": \"\\\"Demeter appears to Erysichthon in her goddess form and punishes him with the curse of insatiable hunger, demonstrating the consequences of his actions against the divine.\\\"\\u003cSEP\\u003e\\\"Demeter cursed Erysichthon with insatiable hunger for desecrating her sacred oak tree.\\\"\\u003cSEP\\u003e\\\"Demeter curses Erysichthon with an insatiable hunger as a punishment.\\\"\", \"from\": \"\\\"ERYSICHTHON\\\"\", \"keywords\": \"\\\"divine retribution, punishment\\\"\\u003cSEP\\u003e\\\"punishment, defiance\\\"\\u003cSEP\\u003e\\\"punishment, divine intervention\\\"\", \"source_id\": \"chunk-c47105a85a51888bf9c5ba21170034a3\\u003cSEP\\u003echunk-0f21f77044f0743885ff9662ab720148\", \"title\": \"\\\"Demeter appears to Erysichthon in her goddess form and punishes him with the curse of insatiable hunger, demonstrating the consequences of his actions against the divine.\\\"\\u003cSEP\\u003e\\\"Demeter cursed Erysichthon with insatiable hunger for desecrating her sacred oak tree.\\\"\\u003cSEP\\u003e\\\"Demeter curses Erysichthon with an insatiable hunger as a punishment.\\\"\", \"to\": \"\\\"DEMETER\\\"\", \"width\": 26.0}, {\"description\": \"\\\"Hades ruled the Underworld and maintained order among the dead.\\\"\", \"from\": \"\\\"UNDERWORLD\\\"\", \"keywords\": \"\\\"authority, domain\\\"\", \"source_id\": \"chunk-c47105a85a51888bf9c5ba21170034a3\", \"title\": \"\\\"Hades ruled the Underworld and maintained order among the dead.\\\"\", \"to\": \"\\\"HADES\\\"\", \"width\": 9.0}, {\"description\": \"\\\"Orpheus ventured into the Underworld to retrieve his wife with his enchanting singing ability.\\\"\", \"from\": \"\\\"UNDERWORLD\\\"\", \"keywords\": \"\\\"journey, retrieval\\\"\", \"source_id\": \"chunk-c47105a85a51888bf9c5ba21170034a3\", \"title\": \"\\\"Orpheus ventured into the Underworld to retrieve his wife with his enchanting singing ability.\\\"\", \"to\": \"\\\"ORPHEUS\\\"\", \"width\": 8.0}, {\"description\": \"\\\"Athena was one of the goddesses who wanted the Golden Apple.\\\"\", \"from\": \"\\\"ATHENA\\\"\", \"keywords\": \"\\\"competition, challenge\\\"\", \"source_id\": \"chunk-c47105a85a51888bf9c5ba21170034a3\", \"title\": \"\\\"Athena was one of the goddesses who wanted the Golden Apple.\\\"\", \"to\": \"\\\"GOLDEN APPLE\\\"\", \"width\": 5.0}, {\"description\": \"\\\"Athena and Poseidon are rivals competing to be the protector of a city, each offering gifts to impress the citizens.\\\"\", \"from\": \"\\\"ATHENA\\\"\", \"keywords\": \"\\\"rivalry, competition\\\"\", \"source_id\": \"chunk-72100c22ea009ce52c5913e0dde029b4\", \"title\": \"\\\"Athena and Poseidon are rivals competing to be the protector of a city, each offering gifts to impress the citizens.\\\"\", \"to\": \"\\\"POSEIDON\\\"\", \"width\": 9.0}, {\"description\": \"\\\"Alpheus chased Artemis, but she evaded him by disguising herself with mud.\\\"\", \"from\": \"\\\"ARTEMIS\\\"\", \"keywords\": \"\\\"pursuit, clever avoidance\\\"\", \"source_id\": \"chunk-c47105a85a51888bf9c5ba21170034a3\", \"title\": \"\\\"Alpheus chased Artemis, but she evaded him by disguising herself with mud.\\\"\", \"to\": \"\\\"ALPHEUS\\\"\", \"width\": 6.0}, {\"description\": \"\\\"The Nymphs helped Artemis avoid capture by Alpheus by disguising themselves.\\\"\", \"from\": \"\\\"ARTEMIS\\\"\", \"keywords\": \"\\\"assistance, loyalty\\\"\", \"source_id\": \"chunk-c47105a85a51888bf9c5ba21170034a3\", \"title\": \"\\\"The Nymphs helped Artemis avoid capture by Alpheus by disguising themselves.\\\"\", \"to\": \"\\\"NYMPHS\\\"\", \"width\": 6.0}, {\"description\": \"\\\"Poseidon declared his love for Hestia, leading to Zeus\\u0027 involvement to prevent conflict.\\\"\", \"from\": \"\\\"POSEIDON\\\"\", \"keywords\": \"\\\"romantic interest, prevention of conflict\\\"\", \"source_id\": \"chunk-c47105a85a51888bf9c5ba21170034a3\", \"title\": \"\\\"Poseidon declared his love for Hestia, leading to Zeus\\u0027 involvement to prevent conflict.\\\"\", \"to\": \"\\\"HESTIA\\\"\", \"width\": 5.0}, {\"description\": \"\\\"Hera competed for the Golden Apple alongside Aphrodite and Athena.\\\"\", \"from\": \"\\\"HERA\\\"\", \"keywords\": \"\\\"competition, conflict\\\"\", \"source_id\": \"chunk-c47105a85a51888bf9c5ba21170034a3\", \"title\": \"\\\"Hera competed for the Golden Apple alongside Aphrodite and Athena.\\\"\", \"to\": \"\\\"GOLDEN APPLE\\\"\", \"width\": 5.0}, {\"description\": \"\\\"Hermes steals Apollo\\u0027s cattle but charms him with music from the lyre, leading Apollo to allow Hermes to keep the cattle in exchange for the instrument.\\\"\", \"from\": \"\\\"APOLLO\\\"\", \"keywords\": \"\\\"theft, charm, exchange\\\"\", \"source_id\": \"chunk-72100c22ea009ce52c5913e0dde029b4\", \"title\": \"\\\"Hermes steals Apollo\\u0027s cattle but charms him with music from the lyre, leading Apollo to allow Hermes to keep the cattle in exchange for the instrument.\\\"\", \"to\": \"\\\"HERMES\\\"\", \"width\": 8.0}, {\"description\": \"\\\"Hestia managed the home and duties on Olympus, reflecting her domestic role.\\\"\", \"from\": \"\\\"HESTIA\\\"\", \"keywords\": \"\\\"domestic responsibility, divine order\\\"\", \"source_id\": \"chunk-c47105a85a51888bf9c5ba21170034a3\", \"title\": \"\\\"Hestia managed the home and duties on Olympus, reflecting her domestic role.\\\"\", \"to\": \"\\\"OLYMPUS\\\"\", \"width\": 8.0}, {\"description\": \"\\\"Hades was moved by Orpheus\\u0027 music and allowed him to temporarily reclaim his wife.\\\"\", \"from\": \"\\\"HADES\\\"\", \"keywords\": \"\\\"music, sympathetic agreement\\\"\", \"source_id\": \"chunk-c47105a85a51888bf9c5ba21170034a3\", \"title\": \"\\\"Hades was moved by Orpheus\\u0027 music and allowed him to temporarily reclaim his wife.\\\"\", \"to\": \"\\\"ORPHEUS\\\"\", \"width\": 7.0}]);\n",
              "\n",
              "                  nodeColors = {};\n",
              "                  allNodes = nodes.get({ returnType: \"Object\" });\n",
              "                  for (nodeId in allNodes) {\n",
              "                    nodeColors[nodeId] = allNodes[nodeId].color;\n",
              "                  }\n",
              "                  allEdges = edges.get({ returnType: \"Object\" });\n",
              "                  // adding nodes and edges to the graph\n",
              "                  data = {nodes: nodes, edges: edges};\n",
              "\n",
              "                  var options = {\n",
              "    \"configure\": {\n",
              "        \"enabled\": false\n",
              "    },\n",
              "    \"edges\": {\n",
              "        \"color\": {\n",
              "            \"inherit\": true\n",
              "        },\n",
              "        \"smooth\": {\n",
              "            \"enabled\": true,\n",
              "            \"type\": \"dynamic\"\n",
              "        }\n",
              "    },\n",
              "    \"interaction\": {\n",
              "        \"dragNodes\": true,\n",
              "        \"hideEdgesOnDrag\": false,\n",
              "        \"hideNodesOnDrag\": false\n",
              "    },\n",
              "    \"physics\": {\n",
              "        \"enabled\": true,\n",
              "        \"stabilization\": {\n",
              "            \"enabled\": true,\n",
              "            \"fit\": true,\n",
              "            \"iterations\": 1000,\n",
              "            \"onlyDynamicEdges\": false,\n",
              "            \"updateInterval\": 50\n",
              "        }\n",
              "    }\n",
              "};\n",
              "\n",
              "                  \n",
              "\n",
              "\n",
              "                  \n",
              "\n",
              "                  network = new vis.Network(container, data, options);\n",
              "\n",
              "                  \n",
              "\n",
              "                  \n",
              "\n",
              "                  \n",
              "\n",
              "\n",
              "                  \n",
              "\n",
              "                  return network;\n",
              "\n",
              "              }\n",
              "              drawGraph();\n",
              "        </script>\n",
              "    </body>\n",
              "</html>"
            ],
            "text/plain": [
              "<IPython.core.display.HTML object>"
            ]
          },
          "execution_count": 23,
          "metadata": {},
          "output_type": "execute_result"
        }
      ],
      "source": [
        "# Load entities\n",
        "G = nx.read_graphml(f\"{WORKING_DIR}/graph_chunk_entity_relation.graphml\")\n",
        "\n",
        "# Create a network\n",
        "net = Network(notebook = True, cdn_resources = \"remote\")\n",
        "net.from_nx(G)\n",
        "\n",
        "# Add colors and titles to nodes\n",
        "for node in net.nodes:\n",
        "  node[\"color\"] = \"#{:06x}\".format(random.randint(0, 0xFFFFFF))\n",
        "  if \"description\" in node:\n",
        "    node[\"title\"] = node[\"description\"]\n",
        "\n",
        "# Add titles to edges\n",
        "for edge in net.edges:\n",
        "  if \"description\" in  edge:\n",
        "    edge[\"title\"] = edge[\"description\"]\n",
        "\n",
        "# Save and display the netweok\n",
        "net.show(\"graph.html\")\n",
        "net.save_graph(\"graph.html\")\n",
        "\n",
        "HTML(filename = \"graph.html\")"
      ]
    },
    {
      "cell_type": "code",
      "execution_count": 24,
      "metadata": {
        "colab": {
          "base_uri": "https://localhost:8080/"
        },
        "id": "i5cCn_D63YMz",
        "outputId": "73f1410c-c8b3-4903-e1d7-1a71b6d86ff4"
      },
      "outputs": [
        {
          "name": "stdout",
          "output_type": "stream",
          "text": [
            "\"OLIVE TREE\"\n",
            "\"APHRODITE\"\n",
            "\"BAUCIS\"\n",
            "\"ZEUS\"\n",
            "\"THESSALY\"\n",
            "\"HEPHAESTUS\"\n",
            "\"PARIS\"\n",
            "\"LINDEN TREE\"\n",
            "\"ERIS\"\n",
            "\"PHILEMON\"\n",
            "\"CURSE OF INSATIABLE HUNGER\"\n",
            "\"ERYSICHTHON\"\n",
            "\"UNDERWORLD\"\n",
            "\"DIONYSUS\"\n",
            "\"HELEN\"\n",
            "\"OAK TREE\"\n",
            "\"ATHENS\"\n",
            "\"ATHENA\"\n",
            "\"DEMETER\"\n",
            "\"MOUNT OLYMPUS\"\n",
            "\"ARTEMIS\"\n",
            "\"KING OF SPARTA\"\n",
            "\"FLOOD\"\n",
            "\"TROJAN WAR\"\n",
            "\"POSEIDON\"\n",
            "\"NYMPHS\"\n",
            "\"ALPHEUS\"\n",
            "\"TROY\"\n",
            "\"TEMPLE\"\n",
            "\"HERA\"\n",
            "\"APOLLO\"\n",
            "\"HERMES\"\n",
            "\"HESTIA\"\n",
            "\"HADES\"\n",
            "\"LYRE\"\n",
            "\"GOLDEN APPLE\"\n",
            "\"ARES\"\n",
            "\"OLYMPUS\"\n",
            "\"ORPHEUS\"\n",
            "\"SEA\"\n"
          ]
        }
      ],
      "source": [
        "# Print all node names\n",
        "for node in G.nodes:\n",
        "  print(node)"
      ]
    },
    {
      "cell_type": "code",
      "execution_count": 25,
      "metadata": {
        "colab": {
          "base_uri": "https://localhost:8080/",
          "height": 627
        },
        "id": "VrbHmRB2z9g4",
        "outputId": "f45da4aa-a52e-43fa-ea04-d489d145623b"
      },
      "outputs": [
        {
          "data": {
            "text/html": [
              "<html>\n",
              "    <head>\n",
              "        <meta charset=\"utf-8\">\n",
              "        \n",
              "            <script>function neighbourhoodHighlight(params) {\n",
              "  // console.log(\"in nieghbourhoodhighlight\");\n",
              "  allNodes = nodes.get({ returnType: \"Object\" });\n",
              "  // originalNodes = JSON.parse(JSON.stringify(allNodes));\n",
              "  // if something is selected:\n",
              "  if (params.nodes.length > 0) {\n",
              "    highlightActive = true;\n",
              "    var i, j;\n",
              "    var selectedNode = params.nodes[0];\n",
              "    var degrees = 2;\n",
              "\n",
              "    // mark all nodes as hard to read.\n",
              "    for (let nodeId in allNodes) {\n",
              "      // nodeColors[nodeId] = allNodes[nodeId].color;\n",
              "      allNodes[nodeId].color = \"rgba(200,200,200,0.5)\";\n",
              "      if (allNodes[nodeId].hiddenLabel === undefined) {\n",
              "        allNodes[nodeId].hiddenLabel = allNodes[nodeId].label;\n",
              "        allNodes[nodeId].label = undefined;\n",
              "      }\n",
              "    }\n",
              "    var connectedNodes = network.getConnectedNodes(selectedNode);\n",
              "    var allConnectedNodes = [];\n",
              "\n",
              "    // get the second degree nodes\n",
              "    for (i = 1; i < degrees; i++) {\n",
              "      for (j = 0; j < connectedNodes.length; j++) {\n",
              "        allConnectedNodes = allConnectedNodes.concat(\n",
              "          network.getConnectedNodes(connectedNodes[j])\n",
              "        );\n",
              "      }\n",
              "    }\n",
              "\n",
              "    // all second degree nodes get a different color and their label back\n",
              "    for (i = 0; i < allConnectedNodes.length; i++) {\n",
              "      // allNodes[allConnectedNodes[i]].color = \"pink\";\n",
              "      allNodes[allConnectedNodes[i]].color = \"rgba(150,150,150,0.75)\";\n",
              "      if (allNodes[allConnectedNodes[i]].hiddenLabel !== undefined) {\n",
              "        allNodes[allConnectedNodes[i]].label =\n",
              "          allNodes[allConnectedNodes[i]].hiddenLabel;\n",
              "        allNodes[allConnectedNodes[i]].hiddenLabel = undefined;\n",
              "      }\n",
              "    }\n",
              "\n",
              "    // all first degree nodes get their own color and their label back\n",
              "    for (i = 0; i < connectedNodes.length; i++) {\n",
              "      // allNodes[connectedNodes[i]].color = undefined;\n",
              "      allNodes[connectedNodes[i]].color = nodeColors[connectedNodes[i]];\n",
              "      if (allNodes[connectedNodes[i]].hiddenLabel !== undefined) {\n",
              "        allNodes[connectedNodes[i]].label =\n",
              "          allNodes[connectedNodes[i]].hiddenLabel;\n",
              "        allNodes[connectedNodes[i]].hiddenLabel = undefined;\n",
              "      }\n",
              "    }\n",
              "\n",
              "    // the main node gets its own color and its label back.\n",
              "    // allNodes[selectedNode].color = undefined;\n",
              "    allNodes[selectedNode].color = nodeColors[selectedNode];\n",
              "    if (allNodes[selectedNode].hiddenLabel !== undefined) {\n",
              "      allNodes[selectedNode].label = allNodes[selectedNode].hiddenLabel;\n",
              "      allNodes[selectedNode].hiddenLabel = undefined;\n",
              "    }\n",
              "  } else if (highlightActive === true) {\n",
              "    // console.log(\"highlightActive was true\");\n",
              "    // reset all nodes\n",
              "    for (let nodeId in allNodes) {\n",
              "      // allNodes[nodeId].color = \"purple\";\n",
              "      allNodes[nodeId].color = nodeColors[nodeId];\n",
              "      // delete allNodes[nodeId].color;\n",
              "      if (allNodes[nodeId].hiddenLabel !== undefined) {\n",
              "        allNodes[nodeId].label = allNodes[nodeId].hiddenLabel;\n",
              "        allNodes[nodeId].hiddenLabel = undefined;\n",
              "      }\n",
              "    }\n",
              "    highlightActive = false;\n",
              "  }\n",
              "\n",
              "  // transform the object into an array\n",
              "  var updateArray = [];\n",
              "  if (params.nodes.length > 0) {\n",
              "    for (let nodeId in allNodes) {\n",
              "      if (allNodes.hasOwnProperty(nodeId)) {\n",
              "        // console.log(allNodes[nodeId]);\n",
              "        updateArray.push(allNodes[nodeId]);\n",
              "      }\n",
              "    }\n",
              "    nodes.update(updateArray);\n",
              "  } else {\n",
              "    // console.log(\"Nothing was selected\");\n",
              "    for (let nodeId in allNodes) {\n",
              "      if (allNodes.hasOwnProperty(nodeId)) {\n",
              "        // console.log(allNodes[nodeId]);\n",
              "        // allNodes[nodeId].color = {};\n",
              "        updateArray.push(allNodes[nodeId]);\n",
              "      }\n",
              "    }\n",
              "    nodes.update(updateArray);\n",
              "  }\n",
              "}\n",
              "\n",
              "function filterHighlight(params) {\n",
              "  allNodes = nodes.get({ returnType: \"Object\" });\n",
              "  // if something is selected:\n",
              "  if (params.nodes.length > 0) {\n",
              "    filterActive = true;\n",
              "    let selectedNodes = params.nodes;\n",
              "\n",
              "    // hiding all nodes and saving the label\n",
              "    for (let nodeId in allNodes) {\n",
              "      allNodes[nodeId].hidden = true;\n",
              "      if (allNodes[nodeId].savedLabel === undefined) {\n",
              "        allNodes[nodeId].savedLabel = allNodes[nodeId].label;\n",
              "        allNodes[nodeId].label = undefined;\n",
              "      }\n",
              "    }\n",
              "\n",
              "    for (let i=0; i < selectedNodes.length; i++) {\n",
              "      allNodes[selectedNodes[i]].hidden = false;\n",
              "      if (allNodes[selectedNodes[i]].savedLabel !== undefined) {\n",
              "        allNodes[selectedNodes[i]].label = allNodes[selectedNodes[i]].savedLabel;\n",
              "        allNodes[selectedNodes[i]].savedLabel = undefined;\n",
              "      }\n",
              "    }\n",
              "\n",
              "  } else if (filterActive === true) {\n",
              "    // reset all nodes\n",
              "    for (let nodeId in allNodes) {\n",
              "      allNodes[nodeId].hidden = false;\n",
              "      if (allNodes[nodeId].savedLabel !== undefined) {\n",
              "        allNodes[nodeId].label = allNodes[nodeId].savedLabel;\n",
              "        allNodes[nodeId].savedLabel = undefined;\n",
              "      }\n",
              "    }\n",
              "    filterActive = false;\n",
              "  }\n",
              "\n",
              "  // transform the object into an array\n",
              "  var updateArray = [];\n",
              "  if (params.nodes.length > 0) {\n",
              "    for (let nodeId in allNodes) {\n",
              "      if (allNodes.hasOwnProperty(nodeId)) {\n",
              "        updateArray.push(allNodes[nodeId]);\n",
              "      }\n",
              "    }\n",
              "    nodes.update(updateArray);\n",
              "  } else {\n",
              "    for (let nodeId in allNodes) {\n",
              "      if (allNodes.hasOwnProperty(nodeId)) {\n",
              "        updateArray.push(allNodes[nodeId]);\n",
              "      }\n",
              "    }\n",
              "    nodes.update(updateArray);\n",
              "  }\n",
              "}\n",
              "\n",
              "function selectNode(nodes) {\n",
              "  network.selectNodes(nodes);\n",
              "  neighbourhoodHighlight({ nodes: nodes });\n",
              "  return nodes;\n",
              "}\n",
              "\n",
              "function selectNodes(nodes) {\n",
              "  network.selectNodes(nodes);\n",
              "  filterHighlight({nodes: nodes});\n",
              "  return nodes;\n",
              "}\n",
              "\n",
              "function highlightFilter(filter) {\n",
              "  let selectedNodes = []\n",
              "  let selectedProp = filter['property']\n",
              "  if (filter['item'] === 'node') {\n",
              "    let allNodes = nodes.get({ returnType: \"Object\" });\n",
              "    for (let nodeId in allNodes) {\n",
              "      if (allNodes[nodeId][selectedProp] && filter['value'].includes((allNodes[nodeId][selectedProp]).toString())) {\n",
              "        selectedNodes.push(nodeId)\n",
              "      }\n",
              "    }\n",
              "  }\n",
              "  else if (filter['item'] === 'edge'){\n",
              "    let allEdges = edges.get({returnType: 'object'});\n",
              "    // check if the selected property exists for selected edge and select the nodes connected to the edge\n",
              "    for (let edge in allEdges) {\n",
              "      if (allEdges[edge][selectedProp] && filter['value'].includes((allEdges[edge][selectedProp]).toString())) {\n",
              "        selectedNodes.push(allEdges[edge]['from'])\n",
              "        selectedNodes.push(allEdges[edge]['to'])\n",
              "      }\n",
              "    }\n",
              "  }\n",
              "  selectNodes(selectedNodes)\n",
              "}</script>\n",
              "            <link rel=\"stylesheet\" href=\"https://cdnjs.cloudflare.com/ajax/libs/vis-network/9.1.2/dist/dist/vis-network.min.css\" integrity=\"sha512-WgxfT5LWjfszlPHXRmBWHkV2eceiWTOBvrKCNbdgDYTHrT2AeLCGbF4sZlZw3UMN3WtL0tGUoIAKsu8mllg/XA==\" crossorigin=\"anonymous\" referrerpolicy=\"no-referrer\" />\n",
              "            <script src=\"https://cdnjs.cloudflare.com/ajax/libs/vis-network/9.1.2/dist/vis-network.min.js\" integrity=\"sha512-LnvoEWDFrqGHlHmDD2101OrLcbsfkrzoSpvtSQtxK3RMnRV0eOkhhBN2dXHKRrUU8p2DGRTk35n4O8nWSVe1mQ==\" crossorigin=\"anonymous\" referrerpolicy=\"no-referrer\"></script>\n",
              "            \n",
              "            \n",
              "            \n",
              "            \n",
              "            \n",
              "            \n",
              "\n",
              "        \n",
              "<center>\n",
              "<h1></h1>\n",
              "</center>\n",
              "\n",
              "<!-- <link rel=\"stylesheet\" href=\"../node_modules/vis/dist/vis.min.css\" type=\"text/css\" />\n",
              "<script type=\"text/javascript\" src=\"../node_modules/vis/dist/vis.js\"> </script>-->\n",
              "        <link\n",
              "          href=\"https://cdn.jsdelivr.net/npm/bootstrap@5.0.0-beta3/dist/css/bootstrap.min.css\"\n",
              "          rel=\"stylesheet\"\n",
              "          integrity=\"sha384-eOJMYsd53ii+scO/bJGFsiCZc+5NDVN2yr8+0RDqr0Ql0h+rP48ckxlpbzKgwra6\"\n",
              "          crossorigin=\"anonymous\"\n",
              "        />\n",
              "        <script\n",
              "          src=\"https://cdn.jsdelivr.net/npm/bootstrap@5.0.0-beta3/dist/js/bootstrap.bundle.min.js\"\n",
              "          integrity=\"sha384-JEW9xMcG8R+pH31jmWH6WWP0WintQrMb4s7ZOdauHnUtxwoG2vI5DkLtS3qm9Ekf\"\n",
              "          crossorigin=\"anonymous\"\n",
              "        ></script>\n",
              "\n",
              "\n",
              "        <center>\n",
              "          <h1></h1>\n",
              "        </center>\n",
              "        <style type=\"text/css\">\n",
              "\n",
              "             #mynetwork {\n",
              "                 width: 100%;\n",
              "                 height: 600px;\n",
              "                 background-color: #ffffff;\n",
              "                 border: 1px solid lightgray;\n",
              "                 position: relative;\n",
              "                 float: left;\n",
              "             }\n",
              "\n",
              "             \n",
              "\n",
              "             \n",
              "\n",
              "             \n",
              "        </style>\n",
              "    </head>\n",
              "\n",
              "\n",
              "    <body>\n",
              "        <div class=\"card\" style=\"width: 100%\">\n",
              "            \n",
              "            \n",
              "            <div id=\"mynetwork\" class=\"card-body\"></div>\n",
              "        </div>\n",
              "\n",
              "        \n",
              "        \n",
              "\n",
              "        <script type=\"text/javascript\">\n",
              "\n",
              "              // initialize global variables.\n",
              "              var edges;\n",
              "              var nodes;\n",
              "              var allNodes;\n",
              "              var allEdges;\n",
              "              var nodeColors;\n",
              "              var originalNodes;\n",
              "              var network;\n",
              "              var container;\n",
              "              var options, data;\n",
              "              var filter = {\n",
              "                  item : '',\n",
              "                  property : '',\n",
              "                  value : []\n",
              "              };\n",
              "\n",
              "              \n",
              "\n",
              "              \n",
              "\n",
              "              // This method is responsible for drawing the graph, returns the drawn network\n",
              "              function drawGraph() {\n",
              "                  var container = document.getElementById('mynetwork');\n",
              "\n",
              "                  \n",
              "\n",
              "                  // parsing and collecting nodes and edges from the python\n",
              "                  nodes = new vis.DataSet([{\"color\": \"#97c2fc\", \"description\": \"\\\"Hestia is the oldest goddess of Olympus, responsible for home and family, and she refused to marry Apollo or Poseidon.\\\"\", \"entity_type\": \"\\\"PERSON\\\"\", \"id\": \"\\\"HESTIA\\\"\", \"label\": \"\\\"HESTIA\\\"\", \"shape\": \"dot\", \"size\": 10, \"source_id\": \"chunk-c47105a85a51888bf9c5ba21170034a3\"}, {\"color\": \"#97c2fc\", \"description\": \"\\\"Zeus is Hades and Poseidon\\u0027s brother, a central figure among the Greek gods.\\\"\\u003cSEP\\u003e\\\"Zeus is the god of the sky and ruler of the Greek gods. He is known for traveling with his son Hermes, and for his ability to transform and reward people who show kindness.\\\"\", \"entity_type\": \"\\\"PERSON\\\"\", \"id\": \"\\\"ZEUS\\\"\", \"label\": \"\\\"ZEUS\\\"\", \"shape\": \"dot\", \"size\": 10, \"source_id\": \"chunk-c47105a85a51888bf9c5ba21170034a3\\u003cSEP\\u003echunk-72100c22ea009ce52c5913e0dde029b4\"}, {\"color\": \"#97c2fc\", \"description\": \"\\\"Baucis is depicted as a kind and hospitable elderly woman who, along with her husband Philemon, offers shelter and food to Zeus and Hermes.\\\"\", \"entity_type\": \"\\\"PERSON\\\"\", \"id\": \"\\\"BAUCIS\\\"\", \"label\": \"\\\"BAUCIS\\\"\", \"shape\": \"dot\", \"size\": 10, \"source_id\": \"chunk-72100c22ea009ce52c5913e0dde029b4\"}, {\"color\": \"#97c2fc\", \"description\": \"\\\"Hermes is the son of Zeus, known for his role as a messenger of the gods. He is depicted as mischievous and is credited with creating the first musical instrument, the lyre.\\\"\", \"entity_type\": \"\\\"PERSON\\\"\", \"id\": \"\\\"HERMES\\\"\", \"label\": \"\\\"HERMES\\\"\", \"shape\": \"dot\", \"size\": 10, \"source_id\": \"chunk-72100c22ea009ce52c5913e0dde029b4\"}]);\n",
              "                  edges = new vis.DataSet([{\"description\": \"\\\"Zeus assigned Hestia the guardianship of Olympus and acknowledged her desire for a peaceful life.\\\"\", \"from\": \"\\\"HESTIA\\\"\", \"keywords\": \"\\\"assignment, appreciation\\\"\", \"source_id\": \"chunk-c47105a85a51888bf9c5ba21170034a3\", \"to\": \"\\\"ZEUS\\\"\", \"width\": 7.0}, {\"description\": \"\\\"Zeus rewards Baucis for her and her husband\\u0027s hospitality by transforming their hut into a temple and ensuring they live together forever.\\\"\", \"from\": \"\\\"ZEUS\\\"\", \"keywords\": \"\\\"reward, divine intervention\\\"\", \"source_id\": \"chunk-72100c22ea009ce52c5913e0dde029b4\", \"to\": \"\\\"BAUCIS\\\"\", \"width\": 10.0}, {\"description\": \"\\\"Zeus is the father of Hermes, and together they travel in disguise, testing the hospitality of mortals.\\\"\", \"from\": \"\\\"ZEUS\\\"\", \"keywords\": \"\\\"father-son relationship, travel\\\"\", \"source_id\": \"chunk-72100c22ea009ce52c5913e0dde029b4\", \"to\": \"\\\"HERMES\\\"\", \"width\": 9.0}]);\n",
              "\n",
              "                  nodeColors = {};\n",
              "                  allNodes = nodes.get({ returnType: \"Object\" });\n",
              "                  for (nodeId in allNodes) {\n",
              "                    nodeColors[nodeId] = allNodes[nodeId].color;\n",
              "                  }\n",
              "                  allEdges = edges.get({ returnType: \"Object\" });\n",
              "                  // adding nodes and edges to the graph\n",
              "                  data = {nodes: nodes, edges: edges};\n",
              "\n",
              "                  var options = {\n",
              "    \"configure\": {\n",
              "        \"enabled\": false\n",
              "    },\n",
              "    \"edges\": {\n",
              "        \"color\": {\n",
              "            \"inherit\": true\n",
              "        },\n",
              "        \"smooth\": {\n",
              "            \"enabled\": true,\n",
              "            \"type\": \"dynamic\"\n",
              "        }\n",
              "    },\n",
              "    \"interaction\": {\n",
              "        \"dragNodes\": true,\n",
              "        \"hideEdgesOnDrag\": false,\n",
              "        \"hideNodesOnDrag\": false\n",
              "    },\n",
              "    \"physics\": {\n",
              "        \"enabled\": true,\n",
              "        \"stabilization\": {\n",
              "            \"enabled\": true,\n",
              "            \"fit\": true,\n",
              "            \"iterations\": 1000,\n",
              "            \"onlyDynamicEdges\": false,\n",
              "            \"updateInterval\": 50\n",
              "        }\n",
              "    }\n",
              "};\n",
              "\n",
              "                  \n",
              "\n",
              "\n",
              "                  \n",
              "\n",
              "                  network = new vis.Network(container, data, options);\n",
              "\n",
              "                  \n",
              "\n",
              "                  \n",
              "\n",
              "                  \n",
              "\n",
              "\n",
              "                  \n",
              "\n",
              "                  return network;\n",
              "\n",
              "              }\n",
              "              drawGraph();\n",
              "        </script>\n",
              "    </body>\n",
              "</html>"
            ],
            "text/plain": [
              "<IPython.core.display.HTML object>"
            ]
          },
          "execution_count": 25,
          "metadata": {},
          "output_type": "execute_result"
        }
      ],
      "source": [
        "# Target Zeus\n",
        "# Load entities\n",
        "G = nx.read_graphml(f\"{WORKING_DIR}/graph_chunk_entity_relation.graphml\")\n",
        "\n",
        "# Target Zeus\n",
        "target_node = '\"ZEUS\"'\n",
        "\n",
        "# Get neighbors for that node\n",
        "subgraph_nodes = list(G.neighbors(target_node)) + [target_node]\n",
        "subgraph = G.subgraph(subgraph_nodes)\n",
        "\n",
        "# Create a network\n",
        "net = Network(notebook = True, cdn_resources = \"remote\")\n",
        "net.from_nx(subgraph)\n",
        "\n",
        "# Save and display the netweok\n",
        "graph_name = f\"{target_node}_graph.html\"\n",
        "net.save_graph(graph_name)\n",
        "HTML(filename = graph_name)"
      ]
    }
  ],
  "metadata": {
    "colab": {
      "provenance": []
    },
    "kernelspec": {
      "display_name": "ragenv",
      "language": "python",
      "name": "python3"
    },
    "language_info": {
      "codemirror_mode": {
        "name": "ipython",
        "version": 3
      },
      "file_extension": ".py",
      "mimetype": "text/x-python",
      "name": "python",
      "nbconvert_exporter": "python",
      "pygments_lexer": "ipython3",
      "version": "3.11.13"
    }
  },
  "nbformat": 4,
  "nbformat_minor": 0
}
