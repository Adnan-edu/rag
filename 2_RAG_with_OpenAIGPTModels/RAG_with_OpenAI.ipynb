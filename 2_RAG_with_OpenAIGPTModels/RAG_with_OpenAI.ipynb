{
 "cells": [
  {
   "cell_type": "code",
   "execution_count": 1,
   "id": "5ae81fb1",
   "metadata": {},
   "outputs": [],
   "source": [
    "# imports\n",
    "\n",
    "import os\n",
    "from dotenv import load_dotenv\n",
    "from openai import OpenAI\n",
    "import base64\n",
    "from IPython.display import display, Image, Markdown\n",
    "import pandas as pd\n",
    "import json"
   ]
  },
  {
   "cell_type": "code",
   "execution_count": 2,
   "id": "60d988b0",
   "metadata": {},
   "outputs": [
    {
     "name": "stdout",
     "output_type": "stream",
     "text": [
      "API key found and looks good so far!\n"
     ]
    }
   ],
   "source": [
    "# Load environment variables in a file called .env\n",
    "\n",
    "load_dotenv(override=True)\n",
    "api_key = os.getenv('OPENAI_API_KEY')\n",
    "\n",
    "# Check the key\n",
    "\n",
    "if not api_key:\n",
    "    print(\"No API key was found - please head over to the troubleshooting notebook in this folder to identify & fix!\")\n",
    "elif not api_key.startswith(\"sk-proj-\"):\n",
    "    print(\"An API key was found, but it doesn't start sk-proj-; please check you're using the right key - see troubleshooting notebook\")\n",
    "elif api_key.strip() != api_key:\n",
    "    print(\"An API key was found, but it looks like it might have space or tab characters at the start or end - please remove them - see troubleshooting notebook\")\n",
    "else:\n",
    "    print(\"API key found and looks good so far!\")"
   ]
  },
  {
   "cell_type": "markdown",
   "id": "31e1b843",
   "metadata": {},
   "source": [
    "## Perform OCR and transform to images"
   ]
  },
  {
   "cell_type": "code",
   "execution_count": 3,
   "id": "0175b122",
   "metadata": {},
   "outputs": [],
   "source": [
    "# Import the libraries\n",
    "from pdf2image import convert_from_path\n",
    "# Create a function to convert PDF to images and store in specific path\n",
    "def pdf_to_images(pdf_path, output_folder):\n",
    "    if not os.path.exists(output_folder):\n",
    "        os.makedirs(output_folder)\n",
    "\n",
    "    # Convert pdf into images\n",
    "    images = convert_from_path(pdf_path)\n",
    "    image_paths = []\n",
    "\n",
    "    # Save images and paths\n",
    "    for i, image in enumerate(images):\n",
    "        image_path = os.path.join(output_folder, f\"page{i+1}.jpg\")\n",
    "        image.save(image_path, \"JPEG\")\n",
    "        image_paths.append(image_path)\n",
    "    return image_paths"
   ]
  },
  {
   "cell_type": "code",
   "execution_count": 4,
   "id": "83464adb",
   "metadata": {},
   "outputs": [],
   "source": [
    "pdf_path = \"./resources/pdf/Things mother used to make.pdf\"\n",
    "output_folder = \"./resources/output_images\"\n",
    "image_paths = pdf_to_images(pdf_path, output_folder)"
   ]
  },
  {
   "cell_type": "code",
   "execution_count": 5,
   "id": "669f3f56",
   "metadata": {},
   "outputs": [],
   "source": [
    "# Set up connection to openai API\n",
    "\n",
    "client = OpenAI(\n",
    "    api_key=api_key\n",
    ")\n",
    "model = \"gpt-4o-mini\""
   ]
  },
  {
   "cell_type": "code",
   "execution_count": 7,
   "id": "a32e7064",
   "metadata": {},
   "outputs": [],
   "source": [
    "# Read and encode one image\n",
    "image_path = \"./resources/output_images/page23.jpg\"\n",
    "with open(image_path, \"rb\") as image_file:\n",
    "    image_data = base64.b64encode(image_file.read()).decode('utf-8')"
   ]
  },
  {
   "cell_type": "code",
   "execution_count": 8,
   "id": "35cf4858",
   "metadata": {},
   "outputs": [],
   "source": [
    "# Define the system prompt\n",
    "system_prompt = \"\"\"\n",
    "Please analyze the content of this image and extract any related recipe information.\n",
    "\"\"\""
   ]
  },
  {
   "cell_type": "code",
   "execution_count": 9,
   "id": "9a5e3d7d",
   "metadata": {},
   "outputs": [],
   "source": [
    "# Call the OpenAI API use the chat completion method\n",
    "response = client.chat.completions.create(\n",
    "    model = model,\n",
    "    messages = [\n",
    "        # Provide the system prompt\n",
    "        {\"role\": \"system\", \"content\": system_prompt},\n",
    "\n",
    "        # The user message contains both the text and image URL / path\n",
    "        {\"role\": \"user\", \"content\": [\n",
    "            \"This is the image from the recipe page.\",\n",
    "            {\"type\": \"image_url\",\n",
    "             \"image_url\": {\"url\": f\"data:image/jpeg;base64,{image_data}\",\n",
    "                           \"detail\": \"low\"}}\n",
    "        ]}\n",
    "    ]\n",
    ")"
   ]
  },
  {
   "cell_type": "code",
   "execution_count": 10,
   "id": "6f763f35",
   "metadata": {},
   "outputs": [],
   "source": [
    "# Define a function to get the gpt-response and display in markdown\n",
    "def display_gpt_response(response):\n",
    "    gpt_response = response.choices[0].message.content\n",
    "    return display(Markdown(gpt_response))\n"
   ]
  },
  {
   "cell_type": "code",
   "execution_count": 11,
   "id": "377196d8",
   "metadata": {},
   "outputs": [
    {
     "data": {
      "text/markdown": [
       "Here’s the recipe information based on the image you provided:\n",
       "\n",
       "### Things Mother Used to Make\n",
       "#### Breads\n",
       "\n",
       "**Bannocks**\n",
       "- **Ingredients:**\n",
       "  - 1 Cupful of Thick Sour Milk\n",
       "  - ½ Cupful of Sugar\n",
       "  - 2 Cupfuls of Flour\n",
       "  - ½ Cupful of Indian Meal\n",
       "  - 1 Teaspoonful of Soda\n",
       "  - A pinch of Salt\n",
       "\n",
       "- **Instructions:**\n",
       "  1. Make the mixture stiff enough to drop from a spoon.\n",
       "  2. Drop mixture, size of a walnut, into boiling fat.\n",
       "  3. Serve warm, with maple syrup.\n",
       "\n",
       "---\n",
       "\n",
       "**Boston Brown Bread**\n",
       "- **Ingredients:**\n",
       "  - 1 Cupful of Rye Meal\n",
       "  - 1 Cupful of Graham Meal\n",
       "  - 1 Cupful of Molasses\n",
       "  - 1 Cupful of Flour\n",
       "  - 1 Cupful of Sweet Milk\n",
       "  - 1 Cupful of Sour Milk\n",
       "  - ½ Teaspoonful of Soda\n",
       "  - 1 Heaping Teaspoonful of Salt\n",
       "\n",
       "- **Instructions:**\n",
       "  1. Stir the meals and salt together.\n",
       "  2. Beat the soda into the molasses until it foams; add sour milk, mix well, and pour into a tin cup which has been well greased.\n",
       "  3. If you have none, use a brown-bread steamer. \n",
       "\n",
       "Feel free to ask if you need more information or additional recipes!"
      ],
      "text/plain": [
       "<IPython.core.display.Markdown object>"
      ]
     },
     "metadata": {},
     "output_type": "display_data"
    }
   ],
   "source": [
    "display_gpt_response(response)"
   ]
  },
  {
   "cell_type": "code",
   "execution_count": 13,
   "id": "dadf99b2",
   "metadata": {},
   "outputs": [],
   "source": [
    "# Define improved system prompt\n",
    "system_prompt2 = \"\"\"\n",
    "Please analyze the content of this image and extract any related recipe information into structure components.\n",
    "Specifically, extra the recipe title, list of ingredients, step by step instructions, cuisine type, dish type, any relevant tags or metadata.\n",
    "The output must be formatted in a way suited for embedding in a Retrieval Augmented Generation (RAG) system.\n",
    "\"\"\""
   ]
  },
  {
   "cell_type": "code",
   "execution_count": null,
   "id": "073d7350",
   "metadata": {},
   "outputs": [],
   "source": []
  }
 ],
 "metadata": {
  "kernelspec": {
   "display_name": "ragenv",
   "language": "python",
   "name": "python3"
  },
  "language_info": {
   "codemirror_mode": {
    "name": "ipython",
    "version": 3
   },
   "file_extension": ".py",
   "mimetype": "text/x-python",
   "name": "python",
   "nbconvert_exporter": "python",
   "pygments_lexer": "ipython3",
   "version": "3.11.13"
  }
 },
 "nbformat": 4,
 "nbformat_minor": 5
}
