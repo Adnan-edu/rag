{
 "cells": [
  {
   "cell_type": "markdown",
   "metadata": {},
   "source": [
    "# Retrieval-Augmented Generation (RAG) with OpenAI File Search\n",
    " \n",
    "#### This notebook demonstrates how to implement a Retrieval-Augmented Generation (RAG) workflow using OpenAI's Assistants API and File Search capabilities. It guides you through uploading knowledge base documents, configuring the assistant, and performing question answering over your custom data."
   ]
  },
  {
   "cell_type": "code",
   "execution_count": 2,
   "metadata": {},
   "outputs": [
    {
     "data": {
      "text/plain": [
       "True"
      ]
     },
     "execution_count": 2,
     "metadata": {},
     "output_type": "execute_result"
    }
   ],
   "source": [
    "from dotenv import load_dotenv\n",
    "load_dotenv(override=True)"
   ]
  },
  {
   "cell_type": "code",
   "execution_count": 3,
   "metadata": {
    "id": "-LIQbyHNRBhR"
   },
   "outputs": [],
   "source": [
    "# Set OpenAI key in the environment\n",
    "import os\n",
    "\n",
    "api_key = os.getenv('OPENAI_API_KEY')\n",
    "os.environ['OPENAI_API_KEY'] = api_key"
   ]
  },
  {
   "cell_type": "code",
   "execution_count": 4,
   "metadata": {
    "id": "6BBaGBVcRH6J"
   },
   "outputs": [],
   "source": [
    "from openai import OpenAI # must be above 1.66\n",
    "from IPython.display import Markdown\n",
    "\n",
    "client = OpenAI()"
   ]
  },
  {
   "cell_type": "markdown",
   "metadata": {
    "id": "PvqLh2qj1618"
   },
   "source": [
    "## Create Knowledge Component\n",
    "\n",
    "Prepare and upload relevant documents to be used as a knowledge base for the assistant."
   ]
  },
  {
   "cell_type": "code",
   "execution_count": 5,
   "metadata": {
    "colab": {
     "base_uri": "https://localhost:8080/"
    },
    "executionInfo": {
     "elapsed": 3380,
     "status": "ok",
     "timestamp": 1745482501041,
     "user": {
      "displayName": "Diogo Resende",
      "userId": "05706604408624562002"
     },
     "user_tz": -120
    },
    "id": "lTVj_quN12gn",
    "outputId": "3fded39a-3797-4c2b-8529-9aef6604e0f9"
   },
   "outputs": [
    {
     "name": "stdout",
     "output_type": "stream",
     "text": [
      "['file-2kciqvqat4xaqPuKwxjLdj', 'file-M2M74EEEXWyk8zpFAJWLae']\n"
     ]
    }
   ],
   "source": [
    "# Define the files needed\n",
    "files_path = [\"./resources/Termos e Condições _ Politica de Privacidade da Bitte (PT_EN).docx\",\n",
    "              \"./resources/Bitte - Apresentação Corporativa.pdf\"]\n",
    "file_ids = []\n",
    "\n",
    "# Upload the files to the API\n",
    "for file_path in files_path:\n",
    "  with open(file_path, \"rb\") as file_content:\n",
    "    result = client.files.create(\n",
    "        file = file_content,\n",
    "        # The 'purpose' parameter specifies how the uploaded file will be used by the OpenAI API.\n",
    "        # Setting purpose=\"assistants\" means the file is intended for use with the Assistants API,\n",
    "        # such as for retrieval-augmented generation (RAG) or knowledge base augmentation.\n",
    "        purpose = \"assistants\"\n",
    "    )\n",
    "    # Save the File ID\n",
    "    file_ids.append(result.id)\n",
    "\n",
    "print(file_ids)"
   ]
  },
  {
   "cell_type": "markdown",
   "metadata": {},
   "source": [
    "## Vector Store\n",
    " \n",
    "In the next two cells, we are creating a **vector store** to enable efficient and accurate retrieval of information from our uploaded documents. Here’s a structured explanation:\n",
    "\n",
    "**1. Purpose of Creating a Vector Store**\n",
    "- A vector store is a specialized database that stores document embeddings (numerical representations of text).\n",
    "- By converting documents into vectors, we enable the system to perform semantic search, finding relevant information based on meaning rather than just keywords.\n",
    "\n",
    "**2. What We Will Do**\n",
    "- **Create a Vector Store:** We initialize a new vector store using the OpenAI API.\n",
    "- **Add Files:** We upload our knowledge base documents (e.g., terms, conditions, and presentations) to the vector store, where they are processed and indexed.\n",
    "\n",
    "**3. How This Helps**\n",
    "- When a user asks a question, the system can search the vector store to find the most relevant sections of the documents.\n",
    "- This process ensures that the assistant can provide accurate, contextually relevant answers by referencing the actual content of the uploaded files.\n",
    "- It forms the foundation for Retrieval-Augmented Generation (RAG), where the language model augments its responses with information retrieved from the knowledge base.\n",
    "\n",
    "**Summary Table**\n",
    "| Step                | Action                                      | Benefit                                      |\n",
    "|---------------------|---------------------------------------------|----------------------------------------------|\n",
    "| Create Vector Store | Initialize storage for document embeddings  | Enables semantic search                      |\n",
    "| Add Files           | Upload and index knowledge documents        | Makes information retrievable for the model  |\n",
    "\n",
    "By structuring our knowledge in a vector store, we empower the assistant to deliver more precise and trustworthy answers based on our specific documents."
   ]
  },
  {
   "cell_type": "code",
   "execution_count": 6,
   "metadata": {
    "colab": {
     "base_uri": "https://localhost:8080/"
    },
    "executionInfo": {
     "elapsed": 624,
     "status": "ok",
     "timestamp": 1745485542145,
     "user": {
      "displayName": "Diogo Resende",
      "userId": "05706604408624562002"
     },
     "user_tz": -120
    },
    "id": "Amq8-ZyBCcRy",
    "outputId": "df7b2235-df0a-45cc-f112-7c13bdc12405"
   },
   "outputs": [
    {
     "name": "stdout",
     "output_type": "stream",
     "text": [
      "vs_6898aed613808191b666e803ad446d5f\n"
     ]
    }
   ],
   "source": [
    "# Create a Vector Store\n",
    "vector_store = client.vector_stores.create(\n",
    "    name = \"Bitte Vector Store\",\n",
    ")\n",
    "print(vector_store.id)"
   ]
  },
  {
   "cell_type": "code",
   "execution_count": 7,
   "metadata": {
    "id": "RoLvf-Q7DCzS"
   },
   "outputs": [],
   "source": [
    "# Add files to the vector store\n",
    "for file_id in file_ids:\n",
    "  result = client.vector_stores.files.create(\n",
    "      vector_store_id = vector_store.id,\n",
    "      file_id = file_id,\n",
    "  )"
   ]
  },
  {
   "cell_type": "markdown",
   "metadata": {
    "id": "iUPOyLxTD7a9"
   },
   "source": [
    "# RAG System"
   ]
  },
  {
   "cell_type": "markdown",
   "metadata": {},
   "source": [
    " \n",
    "## **Building the RAG System with OpenAI File Search**\n",
    "\n",
    "In the next cell, we construct a Retrieval-Augmented Generation (RAG) system using the OpenAI API. Here’s a breakdown of the parameters used in the `client.responses.create` method:\n",
    "\n",
    "| Parameter   | Description                                                                                                    |\n",
    "|-------------|----------------------------------------------------------------------------------------------------------------|\n",
    "| `model`     | Specifies the language model to use. In this case, `\"gpt-4.1-mini\"` is selected for generating responses.      |\n",
    "| `input`     | The user’s query or prompt. Here, it asks: `\"List the benefits of Bitte\"`.                                     |\n",
    "| `tools`     | A list of tools to augment the model. This includes:                                                           |\n",
    "|             | - `type`: `\"file_search\"` enables searching over uploaded documents.                                            |\n",
    "|             | - `vector_store_ids`: A list containing the ID(s) of the vector store(s) to search. Here, `[vector_store.id]`. |\n",
    "|             | - `max_num_results`: Limits the number of search results returned (set to 20).                                  |\n",
    "| `include`   | Specifies additional information to include in the response. Here, `[\"file_search_call.results\"]` ensures that |\n",
    "|             | the retrieved document references are included alongside the model’s answer.                                    |\n",
    "\n",
    "**Summary:**  \n",
    "This setup allows the language model to answer questions by searching the uploaded knowledge base (vector store) and referencing relevant documents, resulting in more accurate and context-aware responses.\n"
   ]
  },
  {
   "cell_type": "code",
   "execution_count": 8,
   "metadata": {
    "id": "8c9vuw7TD8nU"
   },
   "outputs": [],
   "source": [
    "# Build the RAG system\n",
    "response = client.responses.create(\n",
    "    model = \"gpt-4.1-mini\",\n",
    "    input = \"List the benefits of Bitte\",\n",
    "    tools = [{\n",
    "        \"type\": \"file_search\",\n",
    "        \"vector_store_ids\": [vector_store.id],\n",
    "        \"max_num_results\": 20\n",
    "    }],\n",
    "    include = [\"file_search_call.results\"] # Include the references\n",
    ")"
   ]
  },
  {
   "cell_type": "code",
   "execution_count": 9,
   "metadata": {
    "colab": {
     "base_uri": "https://localhost:8080/"
    },
    "collapsed": true,
    "executionInfo": {
     "elapsed": 7,
     "status": "ok",
     "timestamp": 1745486531019,
     "user": {
      "displayName": "Diogo Resende",
      "userId": "05706604408624562002"
     },
     "user_tz": -120
    },
    "id": "zlTdx1gNGGD7",
    "outputId": "80f7f792-b927-4748-9ebc-49f20ab4c370"
   },
   "outputs": [
    {
     "data": {
      "text/plain": [
       "['benefits of Bitte']"
      ]
     },
     "execution_count": 9,
     "metadata": {},
     "output_type": "execute_result"
    }
   ],
   "source": [
    "# What GPT queried the Vector Store\n",
    "response.output[0].queries"
   ]
  },
  {
   "cell_type": "code",
   "execution_count": 10,
   "metadata": {
    "colab": {
     "base_uri": "https://localhost:8080/",
     "height": 139
    },
    "executionInfo": {
     "elapsed": 9,
     "status": "ok",
     "timestamp": 1745486648164,
     "user": {
      "displayName": "Diogo Resende",
      "userId": "05706604408624562002"
     },
     "user_tz": -120
    },
    "id": "coh-wfUyGtHv",
    "outputId": "1151b7e4-da00-4ee1-c27c-ef1291981587"
   },
   "outputs": [
    {
     "data": {
      "text/plain": [
       "'4.2.2 O utilizador aceita que se pretender alterar ou cancelar o seu pedido/encomenda, após finalização e confirmação do respectivo pagamento, deverá contactar o serviço de apoio/suporte ao cliente do “BIIPⓇ”, que entrará em contacto com o restaurante parceiro em causa, no sentido de comunicar as alterações solicitadas. Todavia, o utilizador reconhece ainda que o “BIIPⓇ” pode não conseguir contactar com o restaurante e que não assume qualquer responsabilidade nem de qualquer modo garante que o restaurante parceiro, após ter dado início à preparação do pedido/encomenda do utilizador, aceitará as alterações solicitadas. 4.3. O utilizador reconhece que quando o pagamento por si efetuado não for autorizado pela instituição bancária correspondente, terá de efetuar o pagamento através de um método alternativo ou o seu pedido/encomenda não será processado nem comunicado pela “BIIPⓇ” ao restaurante parceiro selecionado pelo utilizador. 4.4. O utilizador aceita que após a receção do seu pedido/encomenda, que o “BIIPⓇ” dará início ao respetivo processamento e disponibilizará ao utilizador o número do pedido, através da impressão do mesmo no documento fiscal ou através de notificação eletrónica, de acordo com a opção do utilizador, dando conta de que o seu pedido foi efetivamente recebido e está a ser processado. 4.4.1 O utilizador aceita que o “BIIPⓇ” atuará com a diligência que lhe pode ser razoavelmente exigida para que todos os pedidos/encomendas efetuados pelos utilizadores sejam aceites pelos restaurantes parceiros e para que qualquer recusa de um pedido/encomenda seja comunicada de imediato ao utilizador. O utilizador aceita que não havendo forma de o notificar por ausência de dados para tal, o cancelamento terá de ser feito no restaurante respetivo, deixando a fatura para o efeito com os seus dados, sendo o estorno do valor feito diretamente pelo “BIIPⓇ”. 4.5. O utilizador aceita que os tempos previstos para a entrega ou recolha dos “Produtos” é meramente indicativo, não assumindo o “BIIPⓇ” qualquer obrigação quanto ao cumprimento dos mesmos pelos restaurantes parceiros. 5. PREÇO E PAGAMENTO DOS SERVIÇOS 5.1. Os preços dos serviços são os indicados no “BIIPⓇ” e incluem o IVA à taxa legal em vigor. 5.2. Os pedidos/encomendas efetuados através do “BIIPⓇ” serão pagos pelo utilizador através dos meios de pagamento disponíveis para o efeito e no momento, disponibilizando o “BIIPⓇ” a respetiva factura/recibo eletrónico que é de imediato disponibilizada ao utilizador ou para o seu endereço eletrónico se optar por esta modalidade. 5.4. O utilizador reconhece que nos casos de take-away, terá de se identificar no ato de recolha dos “Produtos” no restaurante parceiro selecionado, de modo a que este possa confirmar se a identificação daquele corresponde aos dados do pedido/encomenda. 6.'"
      ]
     },
     "execution_count": 10,
     "metadata": {},
     "output_type": "execute_result"
    }
   ],
   "source": [
    "# What was the context retrieved?\n",
    "response.output[0].results[19].text"
   ]
  },
  {
   "cell_type": "code",
   "execution_count": 11,
   "metadata": {
    "colab": {
     "base_uri": "https://localhost:8080/",
     "height": 493
    },
    "executionInfo": {
     "elapsed": 19,
     "status": "ok",
     "timestamp": 1745486749722,
     "user": {
      "displayName": "Diogo Resende",
      "userId": "05706604408624562002"
     },
     "user_tz": -120
    },
    "id": "NA0N0JNVGxyO",
    "outputId": "d548ef87-62f2-49bc-953f-80cb43de8435"
   },
   "outputs": [
    {
     "data": {
      "text/markdown": [
       "The benefits of Bitte, a digital solution for restaurants, are as follows:\n",
       "\n",
       "1. **For Customers:**\n",
       "   - Improved Customer Experience: Customers can better understand the menu with photos and detailed descriptions, helping them make choices that match their preferences.\n",
       "   - Personal Interaction: Digital menus do not reduce interaction but allow for more personalized, attentive, and careful service by the staff.\n",
       "   - Convenience: Customers can use their smartphones to order, pay, make reservations, or request takeaway and delivery services with ease.\n",
       "\n",
       "2. **For Restaurants:**\n",
       "   - Simplicity and Ease of Use: The app allows easy menu management for the restaurant and simple viewing for customers.\n",
       "   - Staff Efficiency: The tool supports the staff, freeing up their time to provide more personalized service.\n",
       "   - Increased Sales and Average Ticket Size: Studies show that digital menus with attractive images increase sales.\n",
       "   - Automation and Efficiency Gains (Premium version): Automating processes can reduce waiting times and optimize restaurant management, addressing challenges like staff recruitment and retention.\n",
       "   - Data-Driven Decision Making: Access to metrics such as popular and profitable dishes, service speed, and sales variations helps strategic decisions.\n",
       "   - More Sales Channels: Expands offerings to include takeaway and delivery with digital ordering.\n",
       "   - Digitalization and Innovation: Helps restaurants keep up with market demands, reach discerning customers, and enhance offers with digital tools.\n",
       "   - Easy to Start: No need for programming knowledge, software installation, or spending time creating the menu from scratch as Bitte converts menus from PDFs using OCR.\n",
       "\n",
       "3. **Additional Features in Premium:**\n",
       "   - Multi-language Menu Translation.\n",
       "   - Cross-selling features to suggest complementary items (e.g., wine with a dish) to increase the average spend.\n",
       "   - Table reservation integration with Google.\n",
       "   - Campaign creation and promotions.\n",
       "   - Detailed analytics on profitability and popularity of menu items.\n",
       "\n",
       "4. **Business Impact:**\n",
       "   - Restaurants using digital menus see an average revenue increase of 10-20%.\n",
       "   - Enhanced customer loyalty by offering a modern and personalized service experience.\n",
       "   - Provides a competitor edge through digital transformation.\n",
       "\n",
       "In summary, Bitte supports restaurants by digitalizing and improving the customer experience, increasing operational efficiency, expanding sales channels, and enabling data-driven management, all with an easy-to-adopt platform that offers both free and premium services tailored to the restaurant's needs."
      ],
      "text/plain": [
       "<IPython.core.display.Markdown object>"
      ]
     },
     "execution_count": 11,
     "metadata": {},
     "output_type": "execute_result"
    }
   ],
   "source": [
    "# What is the answer?\n",
    "Markdown(response.output[1].content[0].text)"
   ]
  },
  {
   "cell_type": "markdown",
   "metadata": {
    "id": "6iZP-wZcIETG"
   },
   "source": [
    "# RAG System with Developper Messages"
   ]
  },
  {
   "cell_type": "code",
   "execution_count": 12,
   "metadata": {
    "id": "PUlWdlS9IETH"
   },
   "outputs": [],
   "source": [
    "# Build the RAG system\n",
    "response = client.responses.create(\n",
    "    model = \"gpt-4.1-mini\",\n",
    "    input = \"List the benefits of Bitte\",\n",
    "    instructions = \"Answer like a funny boss who prefers terms like pre-revenue and cash burn ratio\",\n",
    "    tools = [{\n",
    "        \"type\": \"file_search\",\n",
    "        \"vector_store_ids\": [vector_store.id],\n",
    "        \"max_num_results\": 20\n",
    "    }],\n",
    "    include = [\"file_search_call.results\"] # Include the references\n",
    ")"
   ]
  },
  {
   "cell_type": "code",
   "execution_count": 13,
   "metadata": {
    "colab": {
     "base_uri": "https://localhost:8080/",
     "height": 528
    },
    "executionInfo": {
     "elapsed": 10,
     "status": "ok",
     "timestamp": 1745487076433,
     "user": {
      "displayName": "Diogo Resende",
      "userId": "05706604408624562002"
     },
     "user_tz": -120
    },
    "id": "h97HeVkSIETI",
    "outputId": "2f1fd1ea-b003-4a99-d12b-5bed6a68b643"
   },
   "outputs": [
    {
     "data": {
      "text/markdown": [
       "Alright team, gather ’round! Let me give you the skinny on all the benefits of Bitte—the slick digital sidekick for your restaurant that’s here to turn your pre-revenue hustle into serious cash flow, trimming that pesky cash burn ratio.\n",
       "\n",
       "Here’s why Bitte will make you want to shout “Yes, bitte!”:\n",
       "\n",
       "1. **Digital Menu Magic**  \n",
       "   Your customers get to scroll through a beautiful digital menu on their smartphones. They can check out dish pics, make savvy choices, and BAM! – better experience equals happier diners who come back for more.\n",
       "\n",
       "2. **Freemium to Premium – Scale Like a Pro**  \n",
       "   Start free, baby! Use the digital menu, create campaigns, add multi-language translations, and cross-sell to boost that average ticket size. When you’re ready to crank it up, go Premium for table reservations, mobile order & payments, takeaway, delivery, and deep analytics on profitability and popularity.\n",
       "\n",
       "3. **Staff Efficiency Boost**  \n",
       "   Digital tools mean your team spends less time on grunt work and more time wowing customers. More happy staff, less turnover. That’s like lowering your cash burn ratio by doing more with less hassle!\n",
       "\n",
       "4. **AI-Driven Smarts for Better Management**  \n",
       "   Bitte’s intelligence looks at your data vs. the best in the biz and tells you concrete actions to improve operations. Know your most popular and most profitable dishes, speed of service, and when your kitchen is cranking or slacking.\n",
       "\n",
       "5. **Retention & Sales Growth – Cha-Ching!**  \n",
       "   Studies show restaurants with digital menus get a 10-20% revenue lift! With tailored pairing suggestions (think: that fancy wine that has a fat margin or a dessert that seals the deal), your ticket value shoots upwards.\n",
       "\n",
       "6. **More Channels, More Money**  \n",
       "   Takeaway, delivery, in-house orders — it’s all seamless. Your customers get what they want, you get more sales without extra headaches.  \n",
       "\n",
       "7. **No Tech Headaches**  \n",
       "   No need to be a coding ninja or install apps everywhere. Upload your menu PDF, get a QR code, and you’re open for business digitally faster than you can say “burn rate.”\n",
       "\n",
       "8. **Data-Driven Decisions**  \n",
       "   Actionable insights mean you stop guessing and start profiting. Optimize your menu and service based on real customer data — because gut feelings don't pay the rent.\n",
       "\n",
       "9. **Easy Setup & Support**  \n",
       "   Three steps: sign up, send in your menu PDF, boom—you get a QR code. Plus, customer support is just a WhatsApp or call away.\n",
       "\n",
       "So, in the lingo of a funny boss who's all about numbers and growth: Bitte is your crystal ball and power tool rolled into one, reducing your pre-revenue pains, managing your cash burn, and helping you turn every customer interaction into a profit multiplier. No more faffing about with paper menus or staff burnout — it’s digital efficiency with a side of sales uplift!\n",
       "\n",
       "If you want me to break down how the free vs premium features stack up or the exact workflow, just shout! But basically, Bitte turns your restaurant into a smooth-running, money-making digital champ."
      ],
      "text/plain": [
       "<IPython.core.display.Markdown object>"
      ]
     },
     "execution_count": 13,
     "metadata": {},
     "output_type": "execute_result"
    }
   ],
   "source": [
    "# What is the answer?\n",
    "Markdown(response.output[1].content[0].text)"
   ]
  }
 ],
 "metadata": {
  "colab": {
   "authorship_tag": "ABX9TyPwwT4HIIJD/yTMzf3LBIPS",
   "mount_file_id": "1-YRydnWW9YOKlKAixXFJ7u6CwpgGVUAD",
   "provenance": []
  },
  "kernelspec": {
   "display_name": "ragenv",
   "language": "python",
   "name": "python3"
  },
  "language_info": {
   "codemirror_mode": {
    "name": "ipython",
    "version": 3
   },
   "file_extension": ".py",
   "mimetype": "text/x-python",
   "name": "python",
   "nbconvert_exporter": "python",
   "pygments_lexer": "ipython3",
   "version": "3.11.13"
  }
 },
 "nbformat": 4,
 "nbformat_minor": 0
}
