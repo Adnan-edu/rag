{
 "cells": [
  {
   "cell_type": "code",
   "execution_count": 3,
   "id": "38be2186",
   "metadata": {},
   "outputs": [],
   "source": [
    "# imports\n",
    "\n",
    "from dotenv import load_dotenv\n",
    "from openai import OpenAI\n",
    "import base64\n",
    "from IPython.display import display, Image, Markdown\n",
    "import pandas as pd\n",
    "import os"
   ]
  },
  {
   "cell_type": "code",
   "execution_count": 4,
   "id": "5536f8cc",
   "metadata": {},
   "outputs": [
    {
     "name": "stdout",
     "output_type": "stream",
     "text": [
      "API key found and looks good so far!\n"
     ]
    }
   ],
   "source": [
    "# Load environment variables in a file called .env\n",
    "\n",
    "load_dotenv(override=True)\n",
    "api_key = os.getenv('OPENAI_API_KEY')\n",
    "\n",
    "# Check the key\n",
    "\n",
    "if not api_key:\n",
    "    print(\"No API key was found - please head over to the troubleshooting notebook in this folder to identify & fix!\")\n",
    "elif not api_key.startswith(\"sk-proj-\"):\n",
    "    print(\"An API key was found, but it doesn't start sk-proj-; please check you're using the right key - see troubleshooting notebook\")\n",
    "elif api_key.strip() != api_key:\n",
    "    print(\"An API key was found, but it looks like it might have space or tab characters at the start or end - please remove them - see troubleshooting notebook\")\n",
    "else:\n",
    "    print(\"API key found and looks good so far!\")\n"
   ]
  },
  {
   "cell_type": "code",
   "execution_count": 5,
   "id": "3ce4db7b",
   "metadata": {},
   "outputs": [],
   "source": [
    "# Set the OpenAI connection and model\n",
    "MODEL = \"gpt-4o\"\n",
    "client = OpenAI(api_key=api_key)"
   ]
  },
  {
   "cell_type": "code",
   "execution_count": 6,
   "id": "1abab1f3",
   "metadata": {},
   "outputs": [],
   "source": [
    "# Import libraries\n",
    "import fitz # PyMuPDF\n",
    "from PIL import Image"
   ]
  },
  {
   "cell_type": "code",
   "execution_count": 10,
   "id": "e8625b6e",
   "metadata": {},
   "outputs": [],
   "source": [
    "directory = f\"{os.getcwd()}/resources\""
   ]
  },
  {
   "cell_type": "code",
   "execution_count": 24,
   "id": "9ee648dd",
   "metadata": {},
   "outputs": [],
   "source": [
    "import shutil"
   ]
  },
  {
   "cell_type": "code",
   "execution_count": 35,
   "id": "0f9d11f4",
   "metadata": {},
   "outputs": [],
   "source": [
    "# Go through the directory and find all files with pdf ending\n",
    "def pdf_to_image(src_dir, target_dir_name):\n",
    "    pdf_to_image_dir = os.path.join(src_dir, target_dir_name)\n",
    "    if os.path.exists(pdf_to_image_dir):\n",
    "        # Remove all contents inside the directory\n",
    "        for filename in os.listdir(pdf_to_image_dir):\n",
    "            file_path = os.path.join(pdf_to_image_dir, filename)\n",
    "            if os.path.isfile(file_path) or os.path.islink(file_path):\n",
    "                os.unlink(file_path)\n",
    "            elif os.path.isdir(file_path):\n",
    "                shutil.rmtree(file_path)\n",
    "    else:\n",
    "        os.makedirs(pdf_to_image_dir, exist_ok=True)\n",
    "\n",
    "    for filename in os.listdir(src_dir):\n",
    "        if filename.endswith('.pdf'):\n",
    "            pdf_path = os.path.join(src_dir, filename)\n",
    "            pdf_document = fitz.open(pdf_path)\n",
    "            pdf_file_path = os.path.join(pdf_to_image_dir, filename.split('.pdf')[0])\n",
    "            os.makedirs(pdf_file_path, exist_ok = True)\n",
    "\n",
    "            for page_number in range(len(pdf_document)):\n",
    "                page = pdf_document.load_page(page_number)\n",
    "                pix = page.get_pixmap()\n",
    "\n",
    "                # Save image directly in the given directory - target_dir \n",
    "                image_path = os.path.join(pdf_file_path, f\"{os.path.splitext(filename)[0]}_page_{page_number + 1}.jpg\")\n",
    "                \n",
    "                # Save the image\n",
    "                img = Image.frombytes(\"RGB\", [pix.width, pix.height], pix.samples)\n",
    "                img.save(image_path)\n",
    "    print(\"All PDF files have been converted.\")"
   ]
  },
  {
   "cell_type": "code",
   "execution_count": 36,
   "id": "d7c764af",
   "metadata": {},
   "outputs": [
    {
     "name": "stdout",
     "output_type": "stream",
     "text": [
      "All PDF files have been converted.\n"
     ]
    }
   ],
   "source": [
    "pdf_to_image(directory, \"pdf_to_image\")"
   ]
  },
  {
   "cell_type": "code",
   "execution_count": null,
   "id": "b2822eba",
   "metadata": {},
   "outputs": [],
   "source": [
    "# Go through the directory and find all files with pdf ending\n",
    "def pdf_to_image(src_dir, target_dir_name):\n",
    "    pdf_to_image_dir = os.path.join(src_dir, target_dir_name)\n",
    "    if os.path.exists(pdf_to_image_dir):\n",
    "        # Remove all contents inside the directory\n",
    "        for filename in os.listdir(pdf_to_image_dir):\n",
    "            file_path = os.path.join(pdf_to_image_dir, filename)\n",
    "            if os.path.isfile(file_path) or os.path.islink(file_path):\n",
    "                os.unlink(file_path)\n",
    "            elif os.path.isdir(file_path):\n",
    "                shutil.rmtree(file_path)\n",
    "    else:\n",
    "        os.makedirs(pdf_to_image_dir, exist_ok=True)\n",
    "\n",
    "    for filename in os.listdir(src_dir):\n",
    "        if filename.endswith('.pdf'):\n",
    "            pdf_path = os.path.join(src_dir, filename)\n",
    "            pdf_document = fitz.open(pdf_path)\n",
    "            for page_number in range(len(pdf_document)):\n",
    "                page = pdf_document.load_page(page_number)\n",
    "                pix = page.get_pixmap()\n",
    "\n",
    "                # Save image directly in the given directory - target_dir \n",
    "                image_path = os.path.join(pdf_to_image_dir, f\"{os.path.splitext(filename)[0]}_page_{page_number + 1}.jpg\")\n",
    "                \n",
    "                # Save the image\n",
    "                img = Image.frombytes(\"RGB\", [pix.width, pix.height], pix.samples)\n",
    "                img.save(image_path)\n",
    "    print(\"All PDF files have been converted.\")"
   ]
  }
 ],
 "metadata": {
  "kernelspec": {
   "display_name": "ragenv",
   "language": "python",
   "name": "python3"
  },
  "language_info": {
   "codemirror_mode": {
    "name": "ipython",
    "version": 3
   },
   "file_extension": ".py",
   "mimetype": "text/x-python",
   "name": "python",
   "nbconvert_exporter": "python",
   "pygments_lexer": "ipython3",
   "version": "3.11.13"
  }
 },
 "nbformat": 4,
 "nbformat_minor": 5
}
