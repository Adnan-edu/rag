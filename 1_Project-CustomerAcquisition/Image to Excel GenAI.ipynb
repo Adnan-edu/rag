{
 "cells": [
  {
   "cell_type": "markdown",
   "id": "d19be8de",
   "metadata": {},
   "source": [
    "# Automating Restaurant Menu to Excel with AI\n",
    "\n",
    "### This project converts restaurant menus from images or PDFs into structured Excel files, eliminating manual data entry. The free service helps restaurants quickly generate upload-ready spreadsheets, saving time and costs.\n",
    "\n",
    "**Workflow:**  \n",
    "\n",
    "\n",
    "` \n",
    "PDF → Image → Excel\n",
    "`"
   ]
  },
  {
   "cell_type": "code",
   "execution_count": 43,
   "id": "a06640da",
   "metadata": {},
   "outputs": [],
   "source": [
    "import os\n",
    "from dotenv import load_dotenv\n",
    "from openai import OpenAI\n",
    "import base64\n",
    "from IPython.display import display, Image, Markdown\n",
    "import pandas as pd"
   ]
  },
  {
   "cell_type": "code",
   "execution_count": 44,
   "id": "ce89708f",
   "metadata": {},
   "outputs": [
    {
     "name": "stdout",
     "output_type": "stream",
     "text": [
      "API key found and looks good so far!\n"
     ]
    }
   ],
   "source": [
    "# Load environment variables in a file called .env\n",
    "\n",
    "load_dotenv(override=True)\n",
    "api_key = os.getenv('OPENAI_API_KEY')\n",
    "\n",
    "# Check the key\n",
    "\n",
    "if not api_key:\n",
    "    print(\"No API key was found - please head over to the troubleshooting notebook in this folder to identify & fix!\")\n",
    "elif not api_key.startswith(\"sk-proj-\"):\n",
    "    print(\"An API key was found, but it doesn't start sk-proj-; please check you're using the right key - see troubleshooting notebook\")\n",
    "elif api_key.strip() != api_key:\n",
    "    print(\"An API key was found, but it looks like it might have space or tab characters at the start or end - please remove them - see troubleshooting notebook\")\n",
    "else:\n",
    "    print(\"API key found and looks good so far!\")\n"
   ]
  },
  {
   "cell_type": "code",
   "execution_count": 45,
   "id": "33c5c46e",
   "metadata": {},
   "outputs": [],
   "source": [
    "# Set the OpenAI connection and model\n",
    "MODEL = \"gpt-4o\"\n",
    "client = OpenAI(api_key=api_key)"
   ]
  },
  {
   "cell_type": "markdown",
   "id": "58e43906",
   "metadata": {},
   "source": [
    "## Defining the System Prompt\n",
    "\n",
    "### We define a detailed system prompt that instructs the GPT model on how to convert the menu images into a structured Excel format."
   ]
  },
  {
   "cell_type": "code",
   "execution_count": 46,
   "id": "0c476879",
   "metadata": {},
   "outputs": [],
   "source": [
    "# Define the system prompt with detailed instructions\n",
    "system_prompt = \"\"\"\n",
    "Convert the menu image to a structured excel sheet format following the provided template and instructions.\n",
    "This assistant converts restaurant or cafe menu data into a structured Excel sheet that adheres to a specific template.\n",
    "The template includes categories, subcategories, item names, prices, descriptions, and more, ensuring data consistency.\n",
    "This assistant helps users fill out each row correctly, following the detailed instructions provided.\n",
    "\n",
    "Overview:\n",
    "- Each row in the Excel spreadsheet represents a unique item, categorized under a category or subcategory.\n",
    "- Category and subcategory names are repeated for items within the same subcategory.\n",
    "- Certain columns are left blank when not applicable, such as subcategory details for items directly under a category.\n",
    "- Item details, including names, prices, and descriptions, must be unique for each entry.\n",
    "- Uploaded menu content will be appended to the existing menu without deleting any current entries.\n",
    "\n",
    "Columns Guide:\n",
    "\n",
    "Column Name                    | Description                               | Accepted Values           | Example\n",
    "-------------------------------|-------------------------------------------|---------------------------|-----------------------\n",
    "CategoryTitlePt (Column A)      | Category names in Portuguese              | Text, 256 characters max  | Bebidas\n",
    "CategoryTitleEn (Column B) (Optional) | English translations of category titles | Text, 256 characters max  | Beverages\n",
    "SubcategoryTitlePt (Column C) (Optional) | Subcategory titles in Portuguese | Text, 256 characters max or blank | Sucos\n",
    "SubcategoryTitleEn (Column D) (Optional) | English translations of subcategory titles | Text, 256 characters max or blank | Juices\n",
    "ItemNamePt (Column E)           | Item names in Portuguese                  | Text, 256 characters max  | Água Mineral\n",
    "ItemNameEn (Column F) (Optional) | English translations of item names | Text, 256 characters max or blank | Mineral Water\n",
    "ItemPrice (Column G)          | Price of each item without currency symbol  | Text                      | 2.50 or 2,50\n",
    "Calories (Column H) (Optional) | Caloric content of each item              | Numeric                   | 150\n",
    "PortionSize (Column I)        | Portion size for each item in units        | Text                      | 500ml, 1, 2-3\n",
    "Availability (Column J) (Optional) | Current availability of the item     | Numeric: 1 for Yes, 0 for No | 1\n",
    "ItemDescriptionPt (Column K) (Optional) | Detailed description in Portuguese | Text, 500 characters max  | Contains essential minerals\n",
    "ItemDescriptionEn (Column L) (Optional) | Detailed description in English | Text, 500 characters max  | Contains essential minerals\n",
    "\n",
    "Notes:\n",
    "- Ensure all data entered follows the specified formats to maintain database integrity.\n",
    "- Review the data for accuracy and consistency before submitting the Excel sheet.\n",
    "\"\"\"\n"
   ]
  },
  {
   "cell_type": "code",
   "execution_count": 57,
   "id": "0729c4ca",
   "metadata": {},
   "outputs": [],
   "source": [
    "directory =  f\"{os.getcwd()}\"\n",
    "IMAGE_DIR =directory"
   ]
  },
  {
   "cell_type": "markdown",
   "id": "3b695c75",
   "metadata": {},
   "source": [
    "The next cell defines a function to encode images in base64 format and lists all image files (PNG, JPG, JPEG) in the specified directory.\n"
   ]
  },
  {
   "cell_type": "code",
   "execution_count": 59,
   "id": "e8c65188",
   "metadata": {},
   "outputs": [
    {
     "data": {
      "text/plain": [
       "['DimSum Amoreiras 1.PNG',\n",
       " 'DimSum Amoreiras 2.PNG',\n",
       " 'DimSum Amoreiras 3.PNG',\n",
       " 'DimSum Amoreiras 4.PNG',\n",
       " 'DimSum Amoreiras 5.PNG']"
      ]
     },
     "execution_count": 59,
     "metadata": {},
     "output_type": "execute_result"
    }
   ],
   "source": [
    "def encode_image(image_path):\n",
    "    \"\"\"\n",
    "    Encodes an image to base64 format.\n",
    "    \"\"\"\n",
    "    with open(image_path, \"rb\") as image_file:\n",
    "        import base64\n",
    "        encoded_string = base64.b64encode(image_file.read()).decode('utf-8')\n",
    "    return encoded_string\n",
    "\n",
    "# Process images in the directory\n",
    "try:\n",
    "    image_files = sorted([f for f in os.listdir(IMAGE_DIR) if f.lower().endswith(('.png', '.jpg', '.jpeg'))])\n",
    "except FileNotFoundError:\n",
    "    image_files = []\n",
    "    print(f\"Image directory not found: {IMAGE_DIR}\")\n",
    "\n",
    "image_files"
   ]
  },
  {
   "cell_type": "code",
   "execution_count": 61,
   "id": "c1de9ab0",
   "metadata": {},
   "outputs": [
    {
     "data": {
      "text/plain": [
       "'DimSum Amoreiras 1.PNG'"
      ]
     },
     "execution_count": 61,
     "metadata": {},
     "output_type": "execute_result"
    }
   ],
   "source": [
    "test = image_files[0]\n",
    "test"
   ]
  },
  {
   "cell_type": "code",
   "execution_count": 62,
   "id": "84102619",
   "metadata": {},
   "outputs": [],
   "source": [
    "# Adding a flag for the headers\n",
    "headers_added = False"
   ]
  },
  {
   "cell_type": "code",
   "execution_count": 63,
   "id": "8c1d1d7e",
   "metadata": {},
   "outputs": [],
   "source": [
    "# Create the PANDAS dataframe\n",
    "df = pd.DataFrame(columns=['CategoryTitlePt', 'CategoryTitleEn', 'SubcategoryTitlePt', 'SubcategoryTitleEn',\n",
    "                           'ItemNamePt', 'ItemNameEn', 'ItemPrice', 'Calories', 'PortionSize', 'Availability',\n",
    "                           'ItemDescriptionPt', 'ItemDescriptionEn'])"
   ]
  }
 ],
 "metadata": {
  "kernelspec": {
   "display_name": "ragenv",
   "language": "python",
   "name": "python3"
  },
  "language_info": {
   "codemirror_mode": {
    "name": "ipython",
    "version": 3
   },
   "file_extension": ".py",
   "mimetype": "text/x-python",
   "name": "python",
   "nbconvert_exporter": "python",
   "pygments_lexer": "ipython3",
   "version": "3.11.13"
  }
 },
 "nbformat": 4,
 "nbformat_minor": 5
}
