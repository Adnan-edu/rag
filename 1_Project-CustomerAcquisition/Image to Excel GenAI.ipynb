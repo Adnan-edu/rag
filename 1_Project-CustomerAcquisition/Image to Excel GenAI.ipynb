{
 "cells": [
  {
   "cell_type": "markdown",
   "id": "d19be8de",
   "metadata": {},
   "source": [
    "# Automating Restaurant Menu to Excel with AI\n",
    "\n",
    "### This project converts restaurant menus from images or PDFs into structured Excel files, eliminating manual data entry. The free service helps restaurants quickly generate upload-ready spreadsheets, saving time and costs.\n",
    "\n",
    "**Workflow:**  \n",
    "\n",
    "\n",
    "` \n",
    "PDF → Image → Excel\n",
    "`"
   ]
  },
  {
   "cell_type": "code",
   "execution_count": 43,
   "id": "a06640da",
   "metadata": {},
   "outputs": [],
   "source": [
    "import os\n",
    "from dotenv import load_dotenv\n",
    "from openai import OpenAI\n",
    "import base64\n",
    "from IPython.display import display, Image, Markdown\n",
    "import pandas as pd"
   ]
  },
  {
   "cell_type": "code",
   "execution_count": 44,
   "id": "ce89708f",
   "metadata": {},
   "outputs": [
    {
     "name": "stdout",
     "output_type": "stream",
     "text": [
      "API key found and looks good so far!\n"
     ]
    }
   ],
   "source": [
    "# Load environment variables in a file called .env\n",
    "\n",
    "load_dotenv(override=True)\n",
    "api_key = os.getenv('OPENAI_API_KEY')\n",
    "\n",
    "# Check the key\n",
    "\n",
    "if not api_key:\n",
    "    print(\"No API key was found - please head over to the troubleshooting notebook in this folder to identify & fix!\")\n",
    "elif not api_key.startswith(\"sk-proj-\"):\n",
    "    print(\"An API key was found, but it doesn't start sk-proj-; please check you're using the right key - see troubleshooting notebook\")\n",
    "elif api_key.strip() != api_key:\n",
    "    print(\"An API key was found, but it looks like it might have space or tab characters at the start or end - please remove them - see troubleshooting notebook\")\n",
    "else:\n",
    "    print(\"API key found and looks good so far!\")\n"
   ]
  },
  {
   "cell_type": "code",
   "execution_count": 45,
   "id": "33c5c46e",
   "metadata": {},
   "outputs": [],
   "source": [
    "# Set the OpenAI connection and model\n",
    "MODEL = \"gpt-4o\"\n",
    "client = OpenAI(api_key=api_key)"
   ]
  },
  {
   "cell_type": "markdown",
   "id": "58e43906",
   "metadata": {},
   "source": [
    "## Defining the System Prompt\n",
    "\n",
    "### We define a detailed system prompt that instructs the GPT model on how to convert the menu images into a structured Excel format."
   ]
  },
  {
   "cell_type": "code",
   "execution_count": 46,
   "id": "0c476879",
   "metadata": {},
   "outputs": [],
   "source": [
    "# Define the system prompt with detailed instructions\n",
    "system_prompt = \"\"\"\n",
    "Convert the menu image to a structured excel sheet format following the provided template and instructions.\n",
    "This assistant converts restaurant or cafe menu data into a structured Excel sheet that adheres to a specific template.\n",
    "The template includes categories, subcategories, item names, prices, descriptions, and more, ensuring data consistency.\n",
    "This assistant helps users fill out each row correctly, following the detailed instructions provided.\n",
    "\n",
    "Overview:\n",
    "- Each row in the Excel spreadsheet represents a unique item, categorized under a category or subcategory.\n",
    "- Category and subcategory names are repeated for items within the same subcategory.\n",
    "- Certain columns are left blank when not applicable, such as subcategory details for items directly under a category.\n",
    "- Item details, including names, prices, and descriptions, must be unique for each entry.\n",
    "- Uploaded menu content will be appended to the existing menu without deleting any current entries.\n",
    "\n",
    "Columns Guide:\n",
    "\n",
    "Column Name                    | Description                               | Accepted Values           | Example\n",
    "-------------------------------|-------------------------------------------|---------------------------|-----------------------\n",
    "CategoryTitlePt (Column A)      | Category names in Portuguese              | Text, 256 characters max  | Bebidas\n",
    "CategoryTitleEn (Column B) (Optional) | English translations of category titles | Text, 256 characters max  | Beverages\n",
    "SubcategoryTitlePt (Column C) (Optional) | Subcategory titles in Portuguese | Text, 256 characters max or blank | Sucos\n",
    "SubcategoryTitleEn (Column D) (Optional) | English translations of subcategory titles | Text, 256 characters max or blank | Juices\n",
    "ItemNamePt (Column E)           | Item names in Portuguese                  | Text, 256 characters max  | Água Mineral\n",
    "ItemNameEn (Column F) (Optional) | English translations of item names | Text, 256 characters max or blank | Mineral Water\n",
    "ItemPrice (Column G)          | Price of each item without currency symbol  | Text                      | 2.50 or 2,50\n",
    "Calories (Column H) (Optional) | Caloric content of each item              | Numeric                   | 150\n",
    "PortionSize (Column I)        | Portion size for each item in units        | Text                      | 500ml, 1, 2-3\n",
    "Availability (Column J) (Optional) | Current availability of the item     | Numeric: 1 for Yes, 0 for No | 1\n",
    "ItemDescriptionPt (Column K) (Optional) | Detailed description in Portuguese | Text, 500 characters max  | Contains essential minerals\n",
    "ItemDescriptionEn (Column L) (Optional) | Detailed description in English | Text, 500 characters max  | Contains essential minerals\n",
    "\n",
    "Notes:\n",
    "- Ensure all data entered follows the specified formats to maintain database integrity.\n",
    "- Review the data for accuracy and consistency before submitting the Excel sheet.\n",
    "\"\"\"\n"
   ]
  },
  {
   "cell_type": "code",
   "execution_count": 57,
   "id": "0729c4ca",
   "metadata": {},
   "outputs": [],
   "source": [
    "directory =  f\"{os.getcwd()}\"\n",
    "IMAGE_DIR =directory"
   ]
  },
  {
   "cell_type": "markdown",
   "id": "3b695c75",
   "metadata": {},
   "source": [
    "The next cell defines a function to encode images in base64 format and lists all image files (PNG, JPG, JPEG) in the specified directory.\n"
   ]
  },
  {
   "cell_type": "code",
   "execution_count": 59,
   "id": "e8c65188",
   "metadata": {},
   "outputs": [
    {
     "data": {
      "text/plain": [
       "['DimSum Amoreiras 1.PNG',\n",
       " 'DimSum Amoreiras 2.PNG',\n",
       " 'DimSum Amoreiras 3.PNG',\n",
       " 'DimSum Amoreiras 4.PNG',\n",
       " 'DimSum Amoreiras 5.PNG']"
      ]
     },
     "execution_count": 59,
     "metadata": {},
     "output_type": "execute_result"
    }
   ],
   "source": [
    "def encode_image(image_path):\n",
    "    \"\"\"\n",
    "    Encodes an image to base64 format.\n",
    "    \"\"\"\n",
    "    with open(image_path, \"rb\") as image_file:\n",
    "        import base64\n",
    "        encoded_string = base64.b64encode(image_file.read()).decode('utf-8')\n",
    "    return encoded_string\n",
    "\n",
    "# Process images in the directory\n",
    "try:\n",
    "    image_files = sorted([f for f in os.listdir(IMAGE_DIR) if f.lower().endswith(('.png', '.jpg', '.jpeg'))])\n",
    "except FileNotFoundError:\n",
    "    image_files = []\n",
    "    print(f\"Image directory not found: {IMAGE_DIR}\")\n",
    "\n",
    "image_files"
   ]
  },
  {
   "cell_type": "code",
   "execution_count": 61,
   "id": "c1de9ab0",
   "metadata": {},
   "outputs": [
    {
     "data": {
      "text/plain": [
       "'DimSum Amoreiras 1.PNG'"
      ]
     },
     "execution_count": 61,
     "metadata": {},
     "output_type": "execute_result"
    }
   ],
   "source": [
    "test = image_files[0]\n",
    "test"
   ]
  },
  {
   "cell_type": "code",
   "execution_count": 90,
   "id": "8c1d1d7e",
   "metadata": {},
   "outputs": [],
   "source": [
    "# Create the PANDAS dataframe\n",
    "df = pd.DataFrame(columns=['CategoryTitlePt', 'CategoryTitleEn', 'SubcategoryTitlePt', 'SubcategoryTitleEn',\n",
    "                           'ItemNamePt', 'ItemNameEn', 'ItemPrice', 'Calories', 'PortionSize', 'Availability',\n",
    "                           'ItemDescriptionPt', 'ItemDescriptionEn'])"
   ]
  },
  {
   "cell_type": "code",
   "execution_count": 64,
   "id": "ca47195a",
   "metadata": {},
   "outputs": [],
   "source": [
    "# Retrieve and encode the image\n",
    "image_path = os.path.join(IMAGE_DIR, test)\n",
    "image_data = encode_image(image_path)\n",
    "\n",
    "# Use GPT-4o to analyze and convert the imae\n",
    "response = client.chat.completions.create(\n",
    "        model=MODEL,\n",
    "        messages=[\n",
    "            {\"role\": \"system\", \"content\": system_prompt},\n",
    "            {\"role\": \"user\", \"content\": [\n",
    "                {'type': 'text',\n",
    "                'text': \"Convert this menu image to a structured Excel Sheet Format.\"},\n",
    "                {'type': 'image_url',\n",
    "                'image_url': {'url': f'data:image/png;base64,{image_data}'}}\n",
    "            ]}],\n",
    "        temperature = 0\n",
    "    )"
   ]
  },
  {
   "cell_type": "code",
   "execution_count": 91,
   "id": "4c2513a8",
   "metadata": {},
   "outputs": [
    {
     "data": {
      "text/markdown": [
       "Here's the structured Excel sheet format based on the menu image:\n",
       "\n",
       "| CategoryTitlePt | CategoryTitleEn | SubcategoryTitlePt | SubcategoryTitleEn | ItemNamePt                  | ItemNameEn                  | ItemPrice | Calories | PortionSize | Availability | ItemDescriptionPt                                      | ItemDescriptionEn                                      |\n",
       "|-----------------|-----------------|--------------------|--------------------|-----------------------------|-----------------------------|-----------|----------|-------------|--------------|--------------------------------------------------------|--------------------------------------------------------|\n",
       "| Sopas           | Soups           |                    |                    | Sopa Won Ton                | Won Ton Soup                | 3,95      |          | 1           | 1            | Paksoy, Porco e Camarão                                 | Paksoy, Pork & Shrimp                                  |\n",
       "| Sopas           | Soups           |                    |                    | Sopa Vegetariana            | Vegetarian Soup             | 3,95      |          | 1           | 1            | Paksoy, Bambu, Cogumelo e Verduras                      | Paksoy, Bamboo, Mushroom & Vegetables                  |\n",
       "| Arroz & Verduras| Rice & Vegetables|                    |                    | Arroz branco                | Steamed Rice                | 1,95      |          | 1           | 1            | Arroz ao vapor                                          | Steamed Rice                                           |\n",
       "| Arroz & Verduras| Rice & Vegetables|                    |                    | Paksoy ao vapor             | Steamed Paksoy              | 2,40      |          | 1           | 1            | Paksoy ao vapor com Coentros                            | Steamed Paksoy with Coriander                          |\n",
       "| Siao Long Pao   | Siao Long Pao   |                    |                    | Siao Long Pao Tradicional   | Traditional Siao Long Pao   | 4,50      |          | 3           | 1            | Porco, Paksoy e Cogumelo Shiitake                       | Pork, Paksoy & Shiitake Mushroom                       |\n",
       "| Siao Long Pao   | Siao Long Pao   |                    |                    | Siao Long Pao Negro         | Black Siao Long Pao         | 4,50      |          | 3           | 1            | Porco, Gengibre e Cebolinho                             | Pork, Ginger & Chives                                  |\n",
       "| Gyozas          | Gyozas          |                    |                    | Gyoza Vegetais              | Vegetable Gyoza             | 4,50      |          | 3           | 1            | Veg                                                    | Veg                                                    |\n",
       "| Gyozas          | Gyozas          |                    |                    | Gyoza Camarão               | Shrimp Gyoza                | 4,50      |          | 3           | 1            | Shrimp                                                 | Shrimp                                                 |\n",
       "| Gyozas          | Gyozas          |                    |                    | Gyoza Pato                  | Duck Gyoza                  | 4,50      |          | 3           | 1            | Duck                                                   | Duck                                                   |\n",
       "| Gyozas          | Gyozas          |                    |                    | Gyoza Galinha               | Chicken Gyoza               | 4,50      |          | 3           | 1            | Chicken                                                | Chicken                                                |\n",
       "| Pratos          | Dishes          |                    |                    | Frango BEIJING              | BEIJING Chicken             | 8,95      |          | 1           | 1            | Frango agridoce envolto em massa crocante               | Crispy Sweet & Sour Chicken                            |\n",
       "| Pratos          | Dishes          |                    |                    | Camarão Penghu              | Penghu Shrimp               | 9,95      |          | 1           | 1            | Camarão agridoce envolto em massa crocante              | Crispy Sweet & Sour Shrimps                            |\n",
       "\n",
       "This table captures the menu items, their descriptions, and prices in both Portuguese and English."
      ],
      "text/plain": [
       "<IPython.core.display.Markdown object>"
      ]
     },
     "metadata": {},
     "output_type": "display_data"
    }
   ],
   "source": [
    "from IPython.display import Markdown, display\n",
    "\n",
    "display(Markdown(response.choices[0].message.content))"
   ]
  },
  {
   "cell_type": "code",
   "execution_count": 92,
   "id": "22bb0c02",
   "metadata": {},
   "outputs": [],
   "source": [
    "for row in response.choices[0].message.content.split('\\n'):\n",
    "    if row.startswith('|') and not row.startswith('|-'): # Ensure that the data is a row and not a header format\n",
    "        columns = [col.strip() for col in row.split('|')[1:-1]]\n",
    "        if len(columns) == len(df.columns): # We need to make sure it's following the same structure as the dataframe\n",
    "            if 'CategoryTitlePt' in columns:\n",
    "                continue\n",
    "            new_row = pd.Series(columns, index=df.columns)\n",
    "            df = pd.concat([df, pd.DataFrame([new_row])], ignore_index=True) # keep adding the rows to the dataframe\n",
    "        else:\n",
    "            print(f\"Skipping row: {row}\")"
   ]
  },
  {
   "cell_type": "code",
   "execution_count": 93,
   "id": "4574d53a",
   "metadata": {},
   "outputs": [
    {
     "data": {
      "text/html": [
       "<div>\n",
       "<style scoped>\n",
       "    .dataframe tbody tr th:only-of-type {\n",
       "        vertical-align: middle;\n",
       "    }\n",
       "\n",
       "    .dataframe tbody tr th {\n",
       "        vertical-align: top;\n",
       "    }\n",
       "\n",
       "    .dataframe thead th {\n",
       "        text-align: right;\n",
       "    }\n",
       "</style>\n",
       "<table border=\"1\" class=\"dataframe\">\n",
       "  <thead>\n",
       "    <tr style=\"text-align: right;\">\n",
       "      <th></th>\n",
       "      <th>CategoryTitlePt</th>\n",
       "      <th>CategoryTitleEn</th>\n",
       "      <th>SubcategoryTitlePt</th>\n",
       "      <th>SubcategoryTitleEn</th>\n",
       "      <th>ItemNamePt</th>\n",
       "      <th>ItemNameEn</th>\n",
       "      <th>ItemPrice</th>\n",
       "      <th>Calories</th>\n",
       "      <th>PortionSize</th>\n",
       "      <th>Availability</th>\n",
       "      <th>ItemDescriptionPt</th>\n",
       "      <th>ItemDescriptionEn</th>\n",
       "    </tr>\n",
       "  </thead>\n",
       "  <tbody>\n",
       "    <tr>\n",
       "      <th>0</th>\n",
       "      <td>Sopas</td>\n",
       "      <td>Soups</td>\n",
       "      <td></td>\n",
       "      <td></td>\n",
       "      <td>Sopa Won Ton</td>\n",
       "      <td>Won Ton Soup</td>\n",
       "      <td>3,95</td>\n",
       "      <td></td>\n",
       "      <td>1</td>\n",
       "      <td>1</td>\n",
       "      <td>Paksoy, Porco e Camarão</td>\n",
       "      <td>Paksoy, Pork &amp; Shrimp</td>\n",
       "    </tr>\n",
       "    <tr>\n",
       "      <th>1</th>\n",
       "      <td>Sopas</td>\n",
       "      <td>Soups</td>\n",
       "      <td></td>\n",
       "      <td></td>\n",
       "      <td>Sopa Vegetariana</td>\n",
       "      <td>Vegetarian Soup</td>\n",
       "      <td>3,95</td>\n",
       "      <td></td>\n",
       "      <td>1</td>\n",
       "      <td>1</td>\n",
       "      <td>Paksoy, Bambu, Cogumelo e Verduras</td>\n",
       "      <td>Paksoy, Bamboo, Mushroom &amp; Vegetables</td>\n",
       "    </tr>\n",
       "    <tr>\n",
       "      <th>2</th>\n",
       "      <td>Arroz &amp; Verduras</td>\n",
       "      <td>Rice &amp; Vegetables</td>\n",
       "      <td></td>\n",
       "      <td></td>\n",
       "      <td>Arroz branco</td>\n",
       "      <td>Steamed Rice</td>\n",
       "      <td>1,95</td>\n",
       "      <td></td>\n",
       "      <td>1</td>\n",
       "      <td>1</td>\n",
       "      <td>Arroz ao vapor</td>\n",
       "      <td>Steamed Rice</td>\n",
       "    </tr>\n",
       "    <tr>\n",
       "      <th>3</th>\n",
       "      <td>Arroz &amp; Verduras</td>\n",
       "      <td>Rice &amp; Vegetables</td>\n",
       "      <td></td>\n",
       "      <td></td>\n",
       "      <td>Paksoy ao vapor</td>\n",
       "      <td>Steamed Paksoy</td>\n",
       "      <td>2,40</td>\n",
       "      <td></td>\n",
       "      <td>1</td>\n",
       "      <td>1</td>\n",
       "      <td>Paksoy ao vapor com Coentros</td>\n",
       "      <td>Steamed Paksoy with Coriander</td>\n",
       "    </tr>\n",
       "    <tr>\n",
       "      <th>4</th>\n",
       "      <td>Siao Long Pao</td>\n",
       "      <td>Siao Long Pao</td>\n",
       "      <td></td>\n",
       "      <td></td>\n",
       "      <td>Siao Long Pao Tradicional</td>\n",
       "      <td>Traditional Siao Long Pao</td>\n",
       "      <td>4,50</td>\n",
       "      <td></td>\n",
       "      <td>3</td>\n",
       "      <td>1</td>\n",
       "      <td>Porco, Paksoy e Cogumelo Shiitake</td>\n",
       "      <td>Pork, Paksoy &amp; Shiitake Mushroom</td>\n",
       "    </tr>\n",
       "  </tbody>\n",
       "</table>\n",
       "</div>"
      ],
      "text/plain": [
       "    CategoryTitlePt    CategoryTitleEn SubcategoryTitlePt SubcategoryTitleEn  \\\n",
       "0             Sopas              Soups                                         \n",
       "1             Sopas              Soups                                         \n",
       "2  Arroz & Verduras  Rice & Vegetables                                         \n",
       "3  Arroz & Verduras  Rice & Vegetables                                         \n",
       "4     Siao Long Pao      Siao Long Pao                                         \n",
       "\n",
       "                  ItemNamePt                 ItemNameEn ItemPrice Calories  \\\n",
       "0               Sopa Won Ton               Won Ton Soup      3,95            \n",
       "1           Sopa Vegetariana            Vegetarian Soup      3,95            \n",
       "2               Arroz branco               Steamed Rice      1,95            \n",
       "3            Paksoy ao vapor             Steamed Paksoy      2,40            \n",
       "4  Siao Long Pao Tradicional  Traditional Siao Long Pao      4,50            \n",
       "\n",
       "  PortionSize Availability                   ItemDescriptionPt  \\\n",
       "0           1            1             Paksoy, Porco e Camarão   \n",
       "1           1            1  Paksoy, Bambu, Cogumelo e Verduras   \n",
       "2           1            1                      Arroz ao vapor   \n",
       "3           1            1        Paksoy ao vapor com Coentros   \n",
       "4           3            1   Porco, Paksoy e Cogumelo Shiitake   \n",
       "\n",
       "                       ItemDescriptionEn  \n",
       "0                  Paksoy, Pork & Shrimp  \n",
       "1  Paksoy, Bamboo, Mushroom & Vegetables  \n",
       "2                           Steamed Rice  \n",
       "3          Steamed Paksoy with Coriander  \n",
       "4       Pork, Paksoy & Shiitake Mushroom  "
      ]
     },
     "execution_count": 93,
     "metadata": {},
     "output_type": "execute_result"
    }
   ],
   "source": [
    "df.head()"
   ]
  },
  {
   "cell_type": "code",
   "execution_count": 94,
   "id": "a71956bc",
   "metadata": {},
   "outputs": [
    {
     "data": {
      "text/plain": [
       "12"
      ]
     },
     "execution_count": 94,
     "metadata": {},
     "output_type": "execute_result"
    }
   ],
   "source": [
    "len(df)"
   ]
  },
  {
   "cell_type": "markdown",
   "id": "a3fee687",
   "metadata": {},
   "source": [
    "### Add GenAI Extraction for all images"
   ]
  },
  {
   "cell_type": "code",
   "execution_count": 97,
   "id": "f69b64f0",
   "metadata": {},
   "outputs": [],
   "source": [
    "# Create the PANDAS dataframe\n",
    "df = pd.DataFrame(columns=['CategoryTitlePt', 'CategoryTitleEn', 'SubcategoryTitlePt', 'SubcategoryTitleEn',\n",
    "                           'ItemNamePt', 'ItemNameEn', 'ItemPrice', 'Calories', 'PortionSize', 'Availability',\n",
    "                           'ItemDescriptionPt', 'ItemDescriptionEn'])"
   ]
  },
  {
   "cell_type": "code",
   "execution_count": 98,
   "id": "ad24aa61",
   "metadata": {},
   "outputs": [
    {
     "data": {
      "text/plain": [
       "['DimSum Amoreiras 1.PNG',\n",
       " 'DimSum Amoreiras 2.PNG',\n",
       " 'DimSum Amoreiras 3.PNG',\n",
       " 'DimSum Amoreiras 4.PNG',\n",
       " 'DimSum Amoreiras 5.PNG']"
      ]
     },
     "execution_count": 98,
     "metadata": {},
     "output_type": "execute_result"
    }
   ],
   "source": [
    "image_files"
   ]
  },
  {
   "cell_type": "markdown",
   "id": "cb166af1",
   "metadata": {},
   "source": [
    "## Process of extracting structured data from a set of menu images using a GenAI model (such as GPT-4o).\n",
    " \n",
    "The workflow consists of the following phases:\n",
    "1. **Image Retrieval and Encoding**: For each image file, the image is loaded and encoded in base64 format.\n",
    "2. **GenAI Analysis**: The encoded image is sent to a GenAI model with a prompt to convert the menu image into a structured Excel sheet format.\n",
    "3. **Data Extraction and Aggregation**: The model's response, formatted as a markdown table, is parsed row by row. Each valid row is added to a pandas DataFrame, building up a structured dataset from all images.\n",
    "\n",
    "The overall process automates the conversion of unstructured menu images into a structured, tabular format suitable for further analysis or export.\n",
    "\n",
    "Below is a flowchart illustrating the process:\n",
    "\n",
    "```\n",
    "+-----------------------------+\n",
    "| 1. Image Retrieval & Encode |\n",
    "+-------------+---------------+\n",
    "             |\n",
    "             v\n",
    "+-----------------------------+\n",
    "| 2. GenAI Model Analysis     |\n",
    "|   (Image -> Table)          |\n",
    "+-------------+---------------+\n",
    "             |\n",
    "             v\n",
    "+-----------------------------+\n",
    "| 3. Parse & Append Rows      |\n",
    "|   (to DataFrame)            |\n",
    "+-----------------------------+\n",
    "```\n",
    "\n"
   ]
  },
  {
   "cell_type": "code",
   "execution_count": 99,
   "id": "33a07e4d",
   "metadata": {},
   "outputs": [],
   "source": [
    "for image in image_files:\n",
    "    # Phase 1\n",
    "    # Retrieve and encode the image\n",
    "    image_path = os.path.join(IMAGE_DIR, image)\n",
    "    image_data = encode_image(image_path)\n",
    "\n",
    "    # Phase 2\n",
    "    # Use GPT-4o to analyze and convert the imae\n",
    "    response = client.chat.completions.create(\n",
    "            model=MODEL,\n",
    "            messages=[\n",
    "                {\"role\": \"system\", \"content\": system_prompt},\n",
    "                {\"role\": \"user\", \"content\": [\n",
    "                    {'type': 'text',\n",
    "                    'text': \"Convert this menu image to a structured Excel Sheet Format.\"},\n",
    "                    {'type': 'image_url',\n",
    "                    'image_url': {'url': f'data:image/png;base64,{image_data}'}}\n",
    "                ]}],\n",
    "            temperature = 0\n",
    "        )\n",
    "\n",
    "    # Phase 3\n",
    "    for row in response.choices[0].message.content.split('\\n'):\n",
    "        if row.startswith('|') and not row.startswith('|-'): # Ensure that the data is a row and not a header format\n",
    "            columns = [col.strip() for col in row.split('|')[1:-1]]\n",
    "            if len(columns) == len(df.columns): # We need to make sure it's following the same structure as the dataframe\n",
    "                if 'CategoryTitlePt' in columns:\n",
    "                    continue\n",
    "                new_row = pd.Series(columns, index=df.columns)\n",
    "                df = pd.concat([df, pd.DataFrame([new_row])], ignore_index=True) # keep adding the rows to the dataframe\n",
    "            else:\n",
    "                print(f\"Skipping row: {row}\")"
   ]
  },
  {
   "cell_type": "code",
   "execution_count": 101,
   "id": "ae17f5c9",
   "metadata": {},
   "outputs": [
    {
     "data": {
      "text/html": [
       "<div>\n",
       "<style scoped>\n",
       "    .dataframe tbody tr th:only-of-type {\n",
       "        vertical-align: middle;\n",
       "    }\n",
       "\n",
       "    .dataframe tbody tr th {\n",
       "        vertical-align: top;\n",
       "    }\n",
       "\n",
       "    .dataframe thead th {\n",
       "        text-align: right;\n",
       "    }\n",
       "</style>\n",
       "<table border=\"1\" class=\"dataframe\">\n",
       "  <thead>\n",
       "    <tr style=\"text-align: right;\">\n",
       "      <th></th>\n",
       "      <th>CategoryTitlePt</th>\n",
       "      <th>CategoryTitleEn</th>\n",
       "      <th>SubcategoryTitlePt</th>\n",
       "      <th>SubcategoryTitleEn</th>\n",
       "      <th>ItemNamePt</th>\n",
       "      <th>ItemNameEn</th>\n",
       "      <th>ItemPrice</th>\n",
       "      <th>Calories</th>\n",
       "      <th>PortionSize</th>\n",
       "      <th>Availability</th>\n",
       "      <th>ItemDescriptionPt</th>\n",
       "      <th>ItemDescriptionEn</th>\n",
       "    </tr>\n",
       "  </thead>\n",
       "  <tbody>\n",
       "    <tr>\n",
       "      <th>0</th>\n",
       "      <td>Sopas</td>\n",
       "      <td>Soups</td>\n",
       "      <td></td>\n",
       "      <td></td>\n",
       "      <td>Sopa Won Ton</td>\n",
       "      <td>Won Ton Soup</td>\n",
       "      <td>3,95</td>\n",
       "      <td></td>\n",
       "      <td>1</td>\n",
       "      <td>1</td>\n",
       "      <td>Paksoy, Porco e Camarão</td>\n",
       "      <td>Paksoy, Pork &amp; Shrimp</td>\n",
       "    </tr>\n",
       "    <tr>\n",
       "      <th>1</th>\n",
       "      <td>Sopas</td>\n",
       "      <td>Soups</td>\n",
       "      <td></td>\n",
       "      <td></td>\n",
       "      <td>Sopa Vegetariana</td>\n",
       "      <td>Vegetarian Soup</td>\n",
       "      <td>3,95</td>\n",
       "      <td></td>\n",
       "      <td>1</td>\n",
       "      <td>1</td>\n",
       "      <td>Paksoy, Bambu, Cogumelo e Verduras</td>\n",
       "      <td>Paksoy, Bamboo, Mushroom &amp; Vegetables</td>\n",
       "    </tr>\n",
       "    <tr>\n",
       "      <th>2</th>\n",
       "      <td>Arroz &amp; Verduras</td>\n",
       "      <td>Rice &amp; Vegetables</td>\n",
       "      <td></td>\n",
       "      <td></td>\n",
       "      <td>Arroz branco</td>\n",
       "      <td>Steamed Rice</td>\n",
       "      <td>1,95</td>\n",
       "      <td></td>\n",
       "      <td>1</td>\n",
       "      <td>1</td>\n",
       "      <td>Arroz ao vapor</td>\n",
       "      <td>Steamed Rice</td>\n",
       "    </tr>\n",
       "    <tr>\n",
       "      <th>3</th>\n",
       "      <td>Arroz &amp; Verduras</td>\n",
       "      <td>Rice &amp; Vegetables</td>\n",
       "      <td></td>\n",
       "      <td></td>\n",
       "      <td>Paksoy ao vapor</td>\n",
       "      <td>Steamed Paksoy</td>\n",
       "      <td>2,40</td>\n",
       "      <td></td>\n",
       "      <td>1</td>\n",
       "      <td>1</td>\n",
       "      <td>Paksoy ao vapor com Coentros</td>\n",
       "      <td>Steamed Paksoy with Coriander</td>\n",
       "    </tr>\n",
       "    <tr>\n",
       "      <th>4</th>\n",
       "      <td>Siao Long Pao</td>\n",
       "      <td>Siao Long Pao</td>\n",
       "      <td></td>\n",
       "      <td></td>\n",
       "      <td>Siao Long Pao Tradicional</td>\n",
       "      <td>Traditional Siao Long Pao</td>\n",
       "      <td>4,50</td>\n",
       "      <td></td>\n",
       "      <td>3</td>\n",
       "      <td>1</td>\n",
       "      <td>Porco, Paksoy e Cogumelo Shiitake</td>\n",
       "      <td>Pork, Paksoy &amp; Shiitake Mushroom</td>\n",
       "    </tr>\n",
       "  </tbody>\n",
       "</table>\n",
       "</div>"
      ],
      "text/plain": [
       "    CategoryTitlePt    CategoryTitleEn SubcategoryTitlePt SubcategoryTitleEn  \\\n",
       "0             Sopas              Soups                                         \n",
       "1             Sopas              Soups                                         \n",
       "2  Arroz & Verduras  Rice & Vegetables                                         \n",
       "3  Arroz & Verduras  Rice & Vegetables                                         \n",
       "4     Siao Long Pao      Siao Long Pao                                         \n",
       "\n",
       "                  ItemNamePt                 ItemNameEn ItemPrice Calories  \\\n",
       "0               Sopa Won Ton               Won Ton Soup      3,95            \n",
       "1           Sopa Vegetariana            Vegetarian Soup      3,95            \n",
       "2               Arroz branco               Steamed Rice      1,95            \n",
       "3            Paksoy ao vapor             Steamed Paksoy      2,40            \n",
       "4  Siao Long Pao Tradicional  Traditional Siao Long Pao      4,50            \n",
       "\n",
       "  PortionSize Availability                   ItemDescriptionPt  \\\n",
       "0           1            1             Paksoy, Porco e Camarão   \n",
       "1           1            1  Paksoy, Bambu, Cogumelo e Verduras   \n",
       "2           1            1                      Arroz ao vapor   \n",
       "3           1            1        Paksoy ao vapor com Coentros   \n",
       "4           3            1   Porco, Paksoy e Cogumelo Shiitake   \n",
       "\n",
       "                       ItemDescriptionEn  \n",
       "0                  Paksoy, Pork & Shrimp  \n",
       "1  Paksoy, Bamboo, Mushroom & Vegetables  \n",
       "2                           Steamed Rice  \n",
       "3          Steamed Paksoy with Coriander  \n",
       "4       Pork, Paksoy & Shiitake Mushroom  "
      ]
     },
     "execution_count": 101,
     "metadata": {},
     "output_type": "execute_result"
    }
   ],
   "source": [
    "df.head()"
   ]
  }
 ],
 "metadata": {
  "kernelspec": {
   "display_name": "ragenv",
   "language": "python",
   "name": "python3"
  },
  "language_info": {
   "codemirror_mode": {
    "name": "ipython",
    "version": 3
   },
   "file_extension": ".py",
   "mimetype": "text/x-python",
   "name": "python",
   "nbconvert_exporter": "python",
   "pygments_lexer": "ipython3",
   "version": "3.11.13"
  }
 },
 "nbformat": 4,
 "nbformat_minor": 5
}
